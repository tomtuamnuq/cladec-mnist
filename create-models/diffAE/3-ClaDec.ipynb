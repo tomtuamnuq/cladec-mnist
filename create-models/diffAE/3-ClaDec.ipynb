{
 "cells": [
  {
   "cell_type": "markdown",
   "source": [
    "# Train ClaDec on the activations of the Classifier\n",
    "## For the non-perfect version subsets of neurons can be used here"
   ],
   "metadata": {
    "collapsed": false,
    "pycharm": {
     "name": "#%% md\n"
    }
   }
  },
  {
   "cell_type": "code",
   "execution_count": 1,
   "outputs": [],
   "source": [
    "import tensorflow as tf\n",
    "from tensorflow import keras\n",
    "import matplotlib.pyplot as plt\n",
    "from src.common import get_mnist_train_test, get_mnist_labels_categorical, load_layer_activations, get_optimizer\n",
    "\n",
    "from src.common import remove_data_in_last_dim\n",
    "from src.diffAE.models import SAVED_CLASSIFIER_PATH, SAVED_CLADEC_PATH, get_cladec\n",
    "\n",
    "tf.random.set_seed(1234)\n",
    "\n",
    "train_images, test_images = get_mnist_train_test()\n",
    "train_labels_c, test_labels_c = get_mnist_labels_categorical()"
   ],
   "metadata": {
    "collapsed": false,
    "pycharm": {
     "name": "#%%\n"
    }
   }
  },
  {
   "cell_type": "code",
   "execution_count": 2,
   "id": "ef8a0e0f-6579-4b27-b8f0-ea57da059d7b",
   "metadata": {
    "pycharm": {
     "name": "#%%\n"
    }
   },
   "outputs": [
    {
     "name": "stderr",
     "output_type": "stream",
     "text": [
      "2022-05-27 16:53:37.790772: I tensorflow/stream_executor/cuda/cuda_gpu_executor.cc:936] successful NUMA node read from SysFS had negative value (-1), but there must be at least one NUMA node, so returning NUMA node zero\n",
      "2022-05-27 16:53:37.920244: I tensorflow/stream_executor/cuda/cuda_gpu_executor.cc:936] successful NUMA node read from SysFS had negative value (-1), but there must be at least one NUMA node, so returning NUMA node zero\n",
      "2022-05-27 16:53:37.921438: I tensorflow/stream_executor/cuda/cuda_gpu_executor.cc:936] successful NUMA node read from SysFS had negative value (-1), but there must be at least one NUMA node, so returning NUMA node zero\n",
      "2022-05-27 16:53:37.924891: I tensorflow/core/platform/cpu_feature_guard.cc:151] This TensorFlow binary is optimized with oneAPI Deep Neural Network Library (oneDNN) to use the following CPU instructions in performance-critical operations:  AVX2 FMA\n",
      "To enable them in other operations, rebuild TensorFlow with the appropriate compiler flags.\n",
      "2022-05-27 16:53:37.928703: I tensorflow/stream_executor/cuda/cuda_gpu_executor.cc:936] successful NUMA node read from SysFS had negative value (-1), but there must be at least one NUMA node, so returning NUMA node zero\n",
      "2022-05-27 16:53:37.929971: I tensorflow/stream_executor/cuda/cuda_gpu_executor.cc:936] successful NUMA node read from SysFS had negative value (-1), but there must be at least one NUMA node, so returning NUMA node zero\n",
      "2022-05-27 16:53:37.931104: I tensorflow/stream_executor/cuda/cuda_gpu_executor.cc:936] successful NUMA node read from SysFS had negative value (-1), but there must be at least one NUMA node, so returning NUMA node zero\n",
      "2022-05-27 16:53:39.943619: I tensorflow/stream_executor/cuda/cuda_gpu_executor.cc:936] successful NUMA node read from SysFS had negative value (-1), but there must be at least one NUMA node, so returning NUMA node zero\n",
      "2022-05-27 16:53:39.943995: I tensorflow/stream_executor/cuda/cuda_gpu_executor.cc:936] successful NUMA node read from SysFS had negative value (-1), but there must be at least one NUMA node, so returning NUMA node zero\n",
      "2022-05-27 16:53:39.944292: I tensorflow/stream_executor/cuda/cuda_gpu_executor.cc:936] successful NUMA node read from SysFS had negative value (-1), but there must be at least one NUMA node, so returning NUMA node zero\n",
      "2022-05-27 16:53:39.944515: I tensorflow/core/common_runtime/gpu/gpu_device.cc:1525] Created device /job:localhost/replica:0/task:0/device:GPU:0 with 3389 MB memory:  -> device: 0, name: NVIDIA GeForce GTX 950M, pci bus id: 0000:01:00.0, compute capability: 5.0\n",
      "2022-05-27 16:53:43.473613: I tensorflow/stream_executor/cuda/cuda_dnn.cc:368] Loaded cuDNN version 8303\n"
     ]
    },
    {
     "name": "stdout",
     "output_type": "stream",
     "text": [
      "313/313 [==============================] - 5s 3ms/step - loss: 0.0417 - categorical_accuracy: 0.9863\n"
     ]
    },
    {
     "data": {
      "text/plain": "[0.041650786995887756, 0.986299991607666]"
     },
     "execution_count": 2,
     "metadata": {},
     "output_type": "execute_result"
    }
   ],
   "source": [
    "# get the trained model and check accuracy on test data for later reference\n",
    "classifier = keras.models.load_model(SAVED_CLASSIFIER_PATH)\n",
    "classifier.evaluate(test_images, test_labels_c)"
   ]
  },
  {
   "cell_type": "code",
   "execution_count": 3,
   "id": "7127d181-8a96-44f1-99d1-54668c061f68",
   "metadata": {
    "pycharm": {
     "name": "#%%\n"
    }
   },
   "outputs": [
    {
     "name": "stdout",
     "output_type": "stream",
     "text": [
      "(10000, 9)\n",
      "(10000, 230)\n"
     ]
    },
    {
     "data": {
      "text/plain": "(60000, 230)"
     },
     "execution_count": 3,
     "metadata": {},
     "output_type": "execute_result"
    }
   ],
   "source": [
    "# get the activations (or subsets of it)\n",
    "layer_subset_percentage = 90\n",
    "(dense_train_acts, dense_test_acts), (conv_train_acts, conv_test_acts) = load_layer_activations(SAVED_CLASSIFIER_PATH)\n",
    "if 0 < layer_subset_percentage < 100:\n",
    "    # remove neurons\n",
    "    dense_train_acts = remove_data_in_last_dim(dense_train_acts, layer_subset_percentage)\n",
    "    dense_test_acts = remove_data_in_last_dim(dense_test_acts, layer_subset_percentage)\n",
    "\n",
    "    conv_train_acts = remove_data_in_last_dim(conv_train_acts, layer_subset_percentage)\n",
    "    conv_test_acts = remove_data_in_last_dim(conv_test_acts, layer_subset_percentage)\n",
    "\n",
    "print(dense_test_acts.shape)\n",
    "print(conv_test_acts.shape)\n",
    "conv_train_acts.shape"
   ]
  },
  {
   "cell_type": "code",
   "execution_count": 4,
   "id": "cda208db-c5c6-429e-978c-b373b7f2967e",
   "metadata": {
    "pycharm": {
     "name": "#%%\n"
    }
   },
   "outputs": [],
   "source": [
    "optimizer = get_optimizer()\n",
    "alpha = 0.0\n",
    "model_alpha_path = SAVED_CLADEC_PATH.joinpath(f'cladec_{layer_subset_percentage}').joinpath(f'{alpha * 100:2.0f}')\n",
    "classifier.trainable = False"
   ]
  },
  {
   "cell_type": "markdown",
   "id": "9cfba735-0356-428e-b31f-f9961a6a074d",
   "metadata": {
    "pycharm": {
     "name": "#%% md\n"
    }
   },
   "source": [
    "## ClaDec with decoder for the final Dense layer of up to 10 neurons"
   ]
  },
  {
   "cell_type": "code",
   "execution_count": 5,
   "id": "2c1f7414-e95c-4bc1-84de-c0938a4e8568",
   "metadata": {
    "pycharm": {
     "name": "#%%\n"
    }
   },
   "outputs": [
    {
     "name": "stdout",
     "output_type": "stream",
     "text": [
      "Model: \"model\"\n",
      "__________________________________________________________________________________________________\n",
      " Layer (type)                   Output Shape         Param #     Connected to                     \n",
      "==================================================================================================\n",
      " input_1 (InputLayer)           [(None, 9)]          0           []                               \n",
      "                                                                                                  \n",
      " dense (Dense)                  (None, 49)           490         ['input_1[0][0]']                \n",
      "                                                                                                  \n",
      " reshape (Reshape)              (None, 7, 7, 1)      0           ['dense[0][0]']                  \n",
      "                                                                                                  \n",
      " conv2d_transpose (Conv2DTransp  (None, 14, 14, 64)  640         ['reshape[0][0]']                \n",
      " ose)                                                                                             \n",
      "                                                                                                  \n",
      " input_3 (InputLayer)           [(None, 10)]         0           []                               \n",
      "                                                                                                  \n",
      " input_2 (InputLayer)           [(None, 28, 28)]     0           []                               \n",
      "                                                                                                  \n",
      " conv2d_transpose_1 (Conv2DTran  (None, 28, 28, 1)   577         ['conv2d_transpose[0][0]']       \n",
      " spose)                                                                                           \n",
      "                                                                                                  \n",
      " tf.convert_to_tensor_1 (TFOpLa  (None, 28, 28, 1)   0           ['conv2d_transpose_1[0][0]']     \n",
      " mbda)                                                                                            \n",
      "                                                                                                  \n",
      " tf.convert_to_tensor (TFOpLamb  (None, 28, 28)      0           ['input_2[0][0]']                \n",
      " da)                                                                                              \n",
      "                                                                                                  \n",
      " tf.compat.v1.squeeze (TFOpLamb  (None, 28, 28)      0           ['tf.convert_to_tensor_1[0][0]'] \n",
      " da)                                                                                              \n",
      "                                                                                                  \n",
      " sequential (Sequential)        (None, 10)           21770       ['conv2d_transpose_1[0][0]']     \n",
      "                                                                                                  \n",
      " tf.convert_to_tensor_2 (TFOpLa  (None, 28, 28)      0           ['tf.convert_to_tensor[0][0]']   \n",
      " mbda)                                                                                            \n",
      "                                                                                                  \n",
      " tf.cast (TFOpLambda)           (None, 28, 28)       0           ['tf.compat.v1.squeeze[0][0]']   \n",
      "                                                                                                  \n",
      " tf.convert_to_tensor_4 (TFOpLa  (None, 10)          0           ['sequential[0][0]']             \n",
      " mbda)                                                                                            \n",
      "                                                                                                  \n",
      " tf.convert_to_tensor_3 (TFOpLa  (None, 10)          0           ['input_3[0][0]']                \n",
      " mbda)                                                                                            \n",
      "                                                                                                  \n",
      " tf.math.squared_difference (TF  (None, 28, 28)      0           ['tf.convert_to_tensor_2[0][0]', \n",
      " OpLambda)                                                        'tf.cast[0][0]']                \n",
      "                                                                                                  \n",
      " tf.cast_4 (TFOpLambda)         (None, 10)           0           ['tf.convert_to_tensor_4[0][0]'] \n",
      "                                                                                                  \n",
      " tf.convert_to_tensor_5 (TFOpLa  (None, 10)          0           ['tf.convert_to_tensor_3[0][0]'] \n",
      " mbda)                                                                                            \n",
      "                                                                                                  \n",
      " tf.math.reduce_mean (TFOpLambd  (None, 28)          0           ['tf.math.squared_difference[0][0\n",
      " a)                                                              ]']                              \n",
      "                                                                                                  \n",
      " tf.keras.backend.categorical_c  (None,)             0           ['tf.cast_4[0][0]',              \n",
      " rossentropy (TFOpLambda)                                         'tf.convert_to_tensor_5[0][0]'] \n",
      "                                                                                                  \n",
      " tf.cast_1 (TFOpLambda)         (None, 28)           0           ['tf.math.reduce_mean[0][0]']    \n",
      "                                                                                                  \n",
      " tf.cast_5 (TFOpLambda)         (None,)              0           ['tf.keras.backend.categorical_cr\n",
      "                                                                 ossentropy[0][0]']               \n",
      "                                                                                                  \n",
      " tf.math.multiply (TFOpLambda)  (None, 28)           0           ['tf.cast_1[0][0]']              \n",
      "                                                                                                  \n",
      " tf.math.multiply_2 (TFOpLambda  (None,)             0           ['tf.cast_5[0][0]']              \n",
      " )                                                                                                \n",
      "                                                                                                  \n",
      " tf.math.reduce_sum (TFOpLambda  ()                  0           ['tf.math.multiply[0][0]']       \n",
      " )                                                                                                \n",
      "                                                                                                  \n",
      " tf.compat.v1.size (TFOpLambda)  ()                  0           ['tf.math.multiply[0][0]']       \n",
      "                                                                                                  \n",
      " tf.math.reduce_sum_2 (TFOpLamb  ()                  0           ['tf.math.multiply_2[0][0]']     \n",
      " da)                                                                                              \n",
      "                                                                                                  \n",
      " tf.compat.v1.size_1 (TFOpLambd  ()                  0           ['tf.math.multiply_2[0][0]']     \n",
      " a)                                                                                               \n",
      "                                                                                                  \n",
      " tf.math.reduce_sum_1 (TFOpLamb  ()                  0           ['tf.math.reduce_sum[0][0]']     \n",
      " da)                                                                                              \n",
      "                                                                                                  \n",
      " tf.cast_2 (TFOpLambda)         ()                   0           ['tf.compat.v1.size[0][0]']      \n",
      "                                                                                                  \n",
      " tf.math.reduce_sum_3 (TFOpLamb  ()                  0           ['tf.math.reduce_sum_2[0][0]']   \n",
      " da)                                                                                              \n",
      "                                                                                                  \n",
      " tf.cast_6 (TFOpLambda)         ()                   0           ['tf.compat.v1.size_1[0][0]']    \n",
      "                                                                                                  \n",
      " tf.math.divide_no_nan (TFOpLam  ()                  0           ['tf.math.reduce_sum_1[0][0]',   \n",
      " bda)                                                             'tf.cast_2[0][0]']              \n",
      "                                                                                                  \n",
      " tf.math.divide_no_nan_1 (TFOpL  ()                  0           ['tf.math.reduce_sum_3[0][0]',   \n",
      " ambda)                                                           'tf.cast_6[0][0]']              \n",
      "                                                                                                  \n",
      " tf.cast_3 (TFOpLambda)         ()                   0           ['tf.math.divide_no_nan[0][0]']  \n",
      "                                                                                                  \n",
      " tf.cast_7 (TFOpLambda)         ()                   0           ['tf.math.divide_no_nan_1[0][0]']\n",
      "                                                                                                  \n",
      " tf.math.multiply_1 (TFOpLambda  ()                  0           ['tf.cast_3[0][0]']              \n",
      " )                                                                                                \n",
      "                                                                                                  \n",
      " tf.math.multiply_3 (TFOpLambda  ()                  0           ['tf.cast_7[0][0]']              \n",
      " )                                                                                                \n",
      "                                                                                                  \n",
      " tf.__operators__.add (TFOpLamb  ()                  0           ['tf.math.multiply_1[0][0]',     \n",
      " da)                                                              'tf.math.multiply_3[0][0]']     \n",
      "                                                                                                  \n",
      " add_loss (AddLoss)             ()                   0           ['tf.__operators__.add[0][0]']   \n",
      "                                                                                                  \n",
      "==================================================================================================\n",
      "Total params: 23,477\n",
      "Trainable params: 1,707\n",
      "Non-trainable params: 21,770\n",
      "__________________________________________________________________________________________________\n"
     ]
    }
   ],
   "source": [
    "model = get_cladec(classifier, alpha, acts_input_shape=dense_train_acts.shape[1:])\n",
    "model.summary()  # note that the classifier is used in loss but not part of training"
   ]
  },
  {
   "cell_type": "code",
   "execution_count": 6,
   "id": "7ea9200a-e556-4d00-ad99-ab9f6da80cb4",
   "metadata": {
    "pycharm": {
     "name": "#%%\n"
    }
   },
   "outputs": [
    {
     "name": "stdout",
     "output_type": "stream",
     "text": [
      "Epoch 1/10\n",
      "1875/1875 [==============================] - 12s 6ms/step - loss: 0.0790\n",
      "Epoch 2/10\n",
      "1875/1875 [==============================] - 10s 5ms/step - loss: 0.0637\n",
      "Epoch 3/10\n",
      "1875/1875 [==============================] - 10s 5ms/step - loss: 0.0624\n",
      "Epoch 4/10\n",
      "1875/1875 [==============================] - 10s 5ms/step - loss: 0.0621\n",
      "Epoch 5/10\n",
      "1875/1875 [==============================] - 11s 6ms/step - loss: 0.0617\n",
      "Epoch 6/10\n",
      "1875/1875 [==============================] - 10s 6ms/step - loss: 0.0615\n",
      "Epoch 7/10\n",
      "1875/1875 [==============================] - 10s 5ms/step - loss: 0.0613\n",
      "Epoch 8/10\n",
      "1875/1875 [==============================] - 11s 6ms/step - loss: 0.0612\n",
      "Epoch 9/10\n",
      "1875/1875 [==============================] - 11s 6ms/step - loss: 0.0611\n",
      "Epoch 10/10\n",
      "1875/1875 [==============================] - 10s 5ms/step - loss: 0.0610\n"
     ]
    },
    {
     "data": {
      "text/plain": "<keras.callbacks.History at 0x7fa8d367d790>"
     },
     "execution_count": 6,
     "metadata": {},
     "output_type": "execute_result"
    }
   ],
   "source": [
    "# input for ClaDec and loss function\n",
    "train_dense_input = [dense_train_acts, train_labels_c, train_images]\n",
    "test_dense_input = [dense_test_acts, test_labels_c, test_images]\n",
    "model.compile(optimizer=optimizer)\n",
    "model.fit(x=train_dense_input, epochs=10)"
   ]
  },
  {
   "cell_type": "code",
   "execution_count": 7,
   "id": "cf1aa03f-a3a6-411c-8baa-d8196287af3b",
   "metadata": {
    "pycharm": {
     "name": "#%%\n"
    }
   },
   "outputs": [
    {
     "name": "stdout",
     "output_type": "stream",
     "text": [
      "313/313 [==============================] - 1s 4ms/step - loss: 0.0417 - categorical_accuracy: 0.9863\n"
     ]
    },
    {
     "data": {
      "text/plain": "[0.041650786995887756, 0.986299991607666]"
     },
     "execution_count": 7,
     "metadata": {},
     "output_type": "execute_result"
    }
   ],
   "source": [
    "classifier.evaluate(test_images, test_labels_c)  # same as before - classifier not changed"
   ]
  },
  {
   "cell_type": "code",
   "execution_count": 8,
   "id": "d0526285-60e6-4821-ab98-51cb098dd73d",
   "metadata": {
    "pycharm": {
     "name": "#%%\n"
    }
   },
   "outputs": [
    {
     "name": "stdout",
     "output_type": "stream",
     "text": [
      "313/313 [==============================] - 1s 4ms/step - loss: 0.0609\n"
     ]
    },
    {
     "data": {
      "text/plain": "0.060883697122335434"
     },
     "execution_count": 8,
     "metadata": {},
     "output_type": "execute_result"
    }
   ],
   "source": [
    "model.evaluate(test_dense_input)"
   ]
  },
  {
   "cell_type": "code",
   "execution_count": 9,
   "id": "fa738232-f5f0-4ce7-ad2d-4b4f1243f332",
   "metadata": {
    "pycharm": {
     "name": "#%%\n"
    }
   },
   "outputs": [],
   "source": [
    "# get actual decoder\n",
    "from keras.models import Model\n",
    "\n",
    "claDec = Model(model.input[0], model.output)\n",
    "dense_explain = claDec.predict(dense_test_acts)"
   ]
  },
  {
   "cell_type": "code",
   "execution_count": 10,
   "id": "4e796a1e-223a-4593-9f52-86f7eb07da8f",
   "metadata": {
    "pycharm": {
     "name": "#%%\n"
    }
   },
   "outputs": [
    {
     "name": "stdout",
     "output_type": "stream",
     "text": [
      "WARNING:tensorflow:Compiled the loaded model, but the compiled metrics have yet to be built. `model.compile_metrics` will be empty until you train or evaluate the model.\n"
     ]
    },
    {
     "name": "stderr",
     "output_type": "stream",
     "text": [
      "2022-05-27 16:56:45.035658: W tensorflow/python/util/util.cc:368] Sets are not currently considered sequences, but this may change in the future, so consider avoiding using them.\n"
     ]
    },
    {
     "name": "stdout",
     "output_type": "stream",
     "text": [
      "INFO:tensorflow:Assets written to: /home/tom/Uni_Dev/cladec-mnist/saved-models/diffAE/cladec/cladec_90/ 0/dense/assets\n",
      "Model: \"model_1\"\n",
      "_________________________________________________________________\n",
      " Layer (type)                Output Shape              Param #   \n",
      "=================================================================\n",
      " input_1 (InputLayer)        [(None, 9)]               0         \n",
      "                                                                 \n",
      " dense (Dense)               (None, 49)                490       \n",
      "                                                                 \n",
      " reshape (Reshape)           (None, 7, 7, 1)           0         \n",
      "                                                                 \n",
      " conv2d_transpose (Conv2DTra  (None, 14, 14, 64)       640       \n",
      " nspose)                                                         \n",
      "                                                                 \n",
      " conv2d_transpose_1 (Conv2DT  (None, 28, 28, 1)        577       \n",
      " ranspose)                                                       \n",
      "                                                                 \n",
      "=================================================================\n",
      "Total params: 1,707\n",
      "Trainable params: 1,707\n",
      "Non-trainable params: 0\n",
      "_________________________________________________________________\n"
     ]
    }
   ],
   "source": [
    "claDec.save(model_alpha_path.joinpath('dense'))\n",
    "claDec.summary()"
   ]
  },
  {
   "cell_type": "code",
   "execution_count": 11,
   "id": "ee039c35-ecd8-4dc1-b872-fd3d04da3068",
   "metadata": {
    "pycharm": {
     "name": "#%%\n"
    }
   },
   "outputs": [
    {
     "data": {
      "text/plain": "<Figure size 1440x288 with 20 Axes>",
      "image/png": "[encoded data removed]"
     },
     "metadata": {
      "needs_background": "light"
     },
     "output_type": "display_data"
    }
   ],
   "source": [
    "n = 10\n",
    "plt.figure(figsize=(20, 4))\n",
    "for i in range(1, n + 1):\n",
    "    # Display original\n",
    "    ax = plt.subplot(2, n, i)\n",
    "    plt.imshow(test_images[i])\n",
    "    plt.gray()\n",
    "    ax.get_xaxis().set_visible(False)\n",
    "    ax.get_yaxis().set_visible(False)\n",
    "\n",
    "    # Display reconstruction\n",
    "    ax = plt.subplot(2, n, i + n)\n",
    "    plt.imshow(dense_explain[i])\n",
    "    plt.gray()\n",
    "    ax.get_xaxis().set_visible(False)\n",
    "    ax.get_yaxis().set_visible(False)\n",
    "plt.show()"
   ]
  },
  {
   "cell_type": "markdown",
   "id": "a5453850-eab8-481b-898f-d4151a597687",
   "metadata": {
    "pycharm": {
     "name": "#%% md\n"
    }
   },
   "source": [
    "## ClaDec with Decoder for the last convolutional layer of up to 2 x 2 x 64 = 256 neurons"
   ]
  },
  {
   "cell_type": "code",
   "execution_count": 12,
   "id": "3dcf6e2b-7869-44d9-8a53-234c627a8001",
   "metadata": {
    "pycharm": {
     "name": "#%%\n"
    }
   },
   "outputs": [
    {
     "name": "stdout",
     "output_type": "stream",
     "text": [
      "Model: \"model_2\"\n",
      "__________________________________________________________________________________________________\n",
      " Layer (type)                   Output Shape         Param #     Connected to                     \n",
      "==================================================================================================\n",
      " input_4 (InputLayer)           [(None, 230)]        0           []                               \n",
      "                                                                                                  \n",
      " dense_1 (Dense)                (None, 49)           11319       ['input_4[0][0]']                \n",
      "                                                                                                  \n",
      " reshape_1 (Reshape)            (None, 7, 7, 1)      0           ['dense_1[0][0]']                \n",
      "                                                                                                  \n",
      " conv2d_transpose_2 (Conv2DTran  (None, 14, 14, 64)  640         ['reshape_1[0][0]']              \n",
      " spose)                                                                                           \n",
      "                                                                                                  \n",
      " input_6 (InputLayer)           [(None, 10)]         0           []                               \n",
      "                                                                                                  \n",
      " input_5 (InputLayer)           [(None, 28, 28)]     0           []                               \n",
      "                                                                                                  \n",
      " conv2d_transpose_3 (Conv2DTran  (None, 28, 28, 1)   577         ['conv2d_transpose_2[0][0]']     \n",
      " spose)                                                                                           \n",
      "                                                                                                  \n",
      " tf.convert_to_tensor_9 (TFOpLa  (None, 28, 28, 1)   0           ['conv2d_transpose_3[0][0]']     \n",
      " mbda)                                                                                            \n",
      "                                                                                                  \n",
      " tf.convert_to_tensor_8 (TFOpLa  (None, 28, 28)      0           ['input_5[0][0]']                \n",
      " mbda)                                                                                            \n",
      "                                                                                                  \n",
      " tf.compat.v1.squeeze_1 (TFOpLa  (None, 28, 28)      0           ['tf.convert_to_tensor_9[0][0]'] \n",
      " mbda)                                                                                            \n",
      "                                                                                                  \n",
      " sequential (Sequential)        (None, 10)           21770       ['conv2d_transpose_3[0][0]']     \n",
      "                                                                                                  \n",
      " tf.convert_to_tensor_10 (TFOpL  (None, 28, 28)      0           ['tf.convert_to_tensor_8[0][0]'] \n",
      " ambda)                                                                                           \n",
      "                                                                                                  \n",
      " tf.cast_8 (TFOpLambda)         (None, 28, 28)       0           ['tf.compat.v1.squeeze_1[0][0]'] \n",
      "                                                                                                  \n",
      " tf.convert_to_tensor_12 (TFOpL  (None, 10)          0           ['sequential[1][0]']             \n",
      " ambda)                                                                                           \n",
      "                                                                                                  \n",
      " tf.convert_to_tensor_11 (TFOpL  (None, 10)          0           ['input_6[0][0]']                \n",
      " ambda)                                                                                           \n",
      "                                                                                                  \n",
      " tf.math.squared_difference_1 (  (None, 28, 28)      0           ['tf.convert_to_tensor_10[0][0]',\n",
      " TFOpLambda)                                                      'tf.cast_8[0][0]']              \n",
      "                                                                                                  \n",
      " tf.cast_12 (TFOpLambda)        (None, 10)           0           ['tf.convert_to_tensor_12[0][0]']\n",
      "                                                                                                  \n",
      " tf.convert_to_tensor_13 (TFOpL  (None, 10)          0           ['tf.convert_to_tensor_11[0][0]']\n",
      " ambda)                                                                                           \n",
      "                                                                                                  \n",
      " tf.math.reduce_mean_1 (TFOpLam  (None, 28)          0           ['tf.math.squared_difference_1[0]\n",
      " bda)                                                            [0]']                            \n",
      "                                                                                                  \n",
      " tf.keras.backend.categorical_c  (None,)             0           ['tf.cast_12[0][0]',             \n",
      " rossentropy_1 (TFOpLambda)                                       'tf.convert_to_tensor_13[0][0]']\n",
      "                                                                                                  \n",
      " tf.cast_9 (TFOpLambda)         (None, 28)           0           ['tf.math.reduce_mean_1[0][0]']  \n",
      "                                                                                                  \n",
      " tf.cast_13 (TFOpLambda)        (None,)              0           ['tf.keras.backend.categorical_cr\n",
      "                                                                 ossentropy_1[0][0]']             \n",
      "                                                                                                  \n",
      " tf.math.multiply_4 (TFOpLambda  (None, 28)          0           ['tf.cast_9[0][0]']              \n",
      " )                                                                                                \n",
      "                                                                                                  \n",
      " tf.math.multiply_6 (TFOpLambda  (None,)             0           ['tf.cast_13[0][0]']             \n",
      " )                                                                                                \n",
      "                                                                                                  \n",
      " tf.math.reduce_sum_4 (TFOpLamb  ()                  0           ['tf.math.multiply_4[0][0]']     \n",
      " da)                                                                                              \n",
      "                                                                                                  \n",
      " tf.compat.v1.size_2 (TFOpLambd  ()                  0           ['tf.math.multiply_4[0][0]']     \n",
      " a)                                                                                               \n",
      "                                                                                                  \n",
      " tf.math.reduce_sum_6 (TFOpLamb  ()                  0           ['tf.math.multiply_6[0][0]']     \n",
      " da)                                                                                              \n",
      "                                                                                                  \n",
      " tf.compat.v1.size_3 (TFOpLambd  ()                  0           ['tf.math.multiply_6[0][0]']     \n",
      " a)                                                                                               \n",
      "                                                                                                  \n",
      " tf.math.reduce_sum_5 (TFOpLamb  ()                  0           ['tf.math.reduce_sum_4[0][0]']   \n",
      " da)                                                                                              \n",
      "                                                                                                  \n",
      " tf.cast_10 (TFOpLambda)        ()                   0           ['tf.compat.v1.size_2[0][0]']    \n",
      "                                                                                                  \n",
      " tf.math.reduce_sum_7 (TFOpLamb  ()                  0           ['tf.math.reduce_sum_6[0][0]']   \n",
      " da)                                                                                              \n",
      "                                                                                                  \n",
      " tf.cast_14 (TFOpLambda)        ()                   0           ['tf.compat.v1.size_3[0][0]']    \n",
      "                                                                                                  \n",
      " tf.math.divide_no_nan_2 (TFOpL  ()                  0           ['tf.math.reduce_sum_5[0][0]',   \n",
      " ambda)                                                           'tf.cast_10[0][0]']             \n",
      "                                                                                                  \n",
      " tf.math.divide_no_nan_3 (TFOpL  ()                  0           ['tf.math.reduce_sum_7[0][0]',   \n",
      " ambda)                                                           'tf.cast_14[0][0]']             \n",
      "                                                                                                  \n",
      " tf.cast_11 (TFOpLambda)        ()                   0           ['tf.math.divide_no_nan_2[0][0]']\n",
      "                                                                                                  \n",
      " tf.cast_15 (TFOpLambda)        ()                   0           ['tf.math.divide_no_nan_3[0][0]']\n",
      "                                                                                                  \n",
      " tf.math.multiply_5 (TFOpLambda  ()                  0           ['tf.cast_11[0][0]']             \n",
      " )                                                                                                \n",
      "                                                                                                  \n",
      " tf.math.multiply_7 (TFOpLambda  ()                  0           ['tf.cast_15[0][0]']             \n",
      " )                                                                                                \n",
      "                                                                                                  \n",
      " tf.__operators__.add_1 (TFOpLa  ()                  0           ['tf.math.multiply_5[0][0]',     \n",
      " mbda)                                                            'tf.math.multiply_7[0][0]']     \n",
      "                                                                                                  \n",
      " add_loss_1 (AddLoss)           ()                   0           ['tf.__operators__.add_1[0][0]'] \n",
      "                                                                                                  \n",
      "==================================================================================================\n",
      "Total params: 34,306\n",
      "Trainable params: 12,536\n",
      "Non-trainable params: 21,770\n",
      "__________________________________________________________________________________________________\n"
     ]
    }
   ],
   "source": [
    "# input for ClaDec and loss function\n",
    "train_conv_input = [conv_train_acts, train_labels_c, train_images]\n",
    "test_conv_input = [conv_test_acts, test_labels_c, test_images]\n",
    "model = get_cladec(classifier, alpha, acts_input_shape=conv_train_acts.shape[1:])\n",
    "model.summary()"
   ]
  },
  {
   "cell_type": "code",
   "execution_count": 13,
   "id": "5ef8da21-3249-486a-ad8f-8bdca1f12480",
   "metadata": {
    "pycharm": {
     "name": "#%%\n"
    }
   },
   "outputs": [
    {
     "name": "stdout",
     "output_type": "stream",
     "text": [
      "Epoch 1/10\n",
      "1875/1875 [==============================] - 11s 6ms/step - loss: 0.0420\n",
      "Epoch 2/10\n",
      "1875/1875 [==============================] - 11s 6ms/step - loss: 0.0308\n",
      "Epoch 3/10\n",
      "1875/1875 [==============================] - 11s 6ms/step - loss: 0.0294\n",
      "Epoch 4/10\n",
      "1875/1875 [==============================] - 11s 6ms/step - loss: 0.0288\n",
      "Epoch 5/10\n",
      "1875/1875 [==============================] - 11s 6ms/step - loss: 0.0283\n",
      "Epoch 6/10\n",
      "1875/1875 [==============================] - 11s 6ms/step - loss: 0.0280\n",
      "Epoch 7/10\n",
      "1875/1875 [==============================] - 11s 6ms/step - loss: 0.0277\n",
      "Epoch 8/10\n",
      "1875/1875 [==============================] - 11s 6ms/step - loss: 0.0275\n",
      "Epoch 9/10\n",
      "1875/1875 [==============================] - 10s 6ms/step - loss: 0.0273\n",
      "Epoch 10/10\n",
      "1875/1875 [==============================] - 11s 6ms/step - loss: 0.0272\n"
     ]
    },
    {
     "data": {
      "text/plain": "<keras.callbacks.History at 0x7fa8c3bb6340>"
     },
     "execution_count": 13,
     "metadata": {},
     "output_type": "execute_result"
    }
   ],
   "source": [
    "model.compile(optimizer=optimizer)\n",
    "model.fit(x=train_conv_input, epochs=10)"
   ]
  },
  {
   "cell_type": "code",
   "execution_count": 14,
   "id": "fb0c8a0e-ca99-4f80-8f42-31b3dcd6f102",
   "metadata": {
    "pycharm": {
     "name": "#%%\n"
    }
   },
   "outputs": [
    {
     "name": "stdout",
     "output_type": "stream",
     "text": [
      "313/313 [==============================] - 2s 4ms/step - loss: 0.0268\n"
     ]
    },
    {
     "data": {
      "text/plain": "0.02680664323270321"
     },
     "execution_count": 14,
     "metadata": {},
     "output_type": "execute_result"
    }
   ],
   "source": [
    "model.evaluate(test_conv_input)"
   ]
  },
  {
   "cell_type": "code",
   "execution_count": 15,
   "id": "2c121e5d-9564-4aef-b092-4c52e34fad01",
   "metadata": {
    "pycharm": {
     "name": "#%%\n"
    }
   },
   "outputs": [
    {
     "name": "stdout",
     "output_type": "stream",
     "text": [
      "WARNING:tensorflow:Compiled the loaded model, but the compiled metrics have yet to be built. `model.compile_metrics` will be empty until you train or evaluate the model.\n",
      "INFO:tensorflow:Assets written to: /home/tom/Uni_Dev/cladec-mnist/saved-models/diffAE/cladec/cladec_90/ 0/conv/assets\n"
     ]
    }
   ],
   "source": [
    "# get actual decoder\n",
    "claDec = Model(model.input[0], model.output)\n",
    "conv_explain = claDec.predict(conv_test_acts)\n",
    "claDec.save(model_alpha_path.joinpath('conv'))"
   ]
  },
  {
   "cell_type": "code",
   "execution_count": 16,
   "outputs": [
    {
     "data": {
      "text/plain": "<Figure size 1440x288 with 20 Axes>",
      "image/png": "[encoded data removed]"
     },
     "metadata": {
      "needs_background": "light"
     },
     "output_type": "display_data"
    }
   ],
   "source": [
    "n = 10\n",
    "plt.figure(figsize=(20, 4))\n",
    "for i in range(1, n + 1):\n",
    "    # Display original\n",
    "    ax = plt.subplot(2, n, i)\n",
    "    plt.imshow(test_images[i])\n",
    "    plt.gray()\n",
    "    ax.get_xaxis().set_visible(False)\n",
    "    ax.get_yaxis().set_visible(False)\n",
    "\n",
    "    # Display reconstruction\n",
    "    ax = plt.subplot(2, n, i + n)\n",
    "    plt.imshow(conv_explain[i])\n",
    "    plt.gray()\n",
    "    ax.get_xaxis().set_visible(False)\n",
    "    ax.get_yaxis().set_visible(False)\n",
    "plt.show()"
   ],
   "metadata": {
    "collapsed": false,
    "pycharm": {
     "name": "#%%\n"
    }
   }
  }
 ],
 "metadata": {
  "kernelspec": {
   "display_name": "AI3ANN",
   "language": "python",
   "name": "ai3ann"
  },
  "language_info": {
   "codemirror_mode": {
    "name": "ipython",
    "version": 3
   },
   "file_extension": ".py",
   "mimetype": "text/x-python",
   "name": "python",
   "nbconvert_exporter": "python",
   "pygments_lexer": "ipython3",
   "version": "3.9.12"
  }
 },
 "nbformat": 4,
 "nbformat_minor": 5
}