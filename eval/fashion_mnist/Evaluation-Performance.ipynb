{
 "cells": [
  {
   "cell_type": "code",
   "execution_count": 1,
   "id": "26271def-641f-48f5-87b2-88c53cf1e4a4",
   "metadata": {
    "pycharm": {
     "name": "#%%\n"
    }
   },
   "outputs": [],
   "source": [
    "import os, pathlib\n",
    "\n",
    "file_path = os.path.dirname(os.path.realpath(\"__file__\"))\n",
    "home_dir = pathlib.Path(file_path).parent.parent\n",
    "os.chdir(home_dir)"
   ]
  },
  {
   "cell_type": "code",
   "execution_count": 2,
   "id": "2f995e98-7021-4614-99c1-217d0752a3ae",
   "metadata": {
    "pycharm": {
     "name": "#%%\n"
    }
   },
   "outputs": [],
   "source": [
    "import tensorflow as tf\n",
    "from tensorflow import keras\n",
    "import numpy as np\n",
    "from src.utils import SAVED_PICS_PATH, keras_dataset_image_preprocessing, DENSE_LAYER_NAME, CONV_LAYER_NAME, ALPHAS\n",
    "from src.utils import SAVED_CLASSIFIER_PATH_FASHION, SAVED_CLADEC_PATH_FASHION, SAVED_REFAE_PATH_FASHION\n",
    "from src.cladec import ClaDec, RefAE\n",
    "\n",
    "(train_images, train_labels_c), (test_images, test_labels_c) = keras_dataset_image_preprocessing(\n",
    "    keras.datasets.fashion_mnist)\n",
    "SAVED_EVAL_PICS_PATH = SAVED_PICS_PATH.joinpath('fashion_mnist')\n",
    "\n",
    "tf.random.set_seed(1234)\n",
    "np.random.seed(1234)"
   ]
  },
  {
   "cell_type": "code",
   "execution_count": 3,
   "outputs": [
    {
     "name": "stderr",
     "output_type": "stream",
     "text": [
      "2022-07-10 12:34:56.727394: I tensorflow/stream_executor/cuda/cuda_gpu_executor.cc:975] successful NUMA node read from SysFS had negative value (-1), but there must be at least one NUMA node, so returning NUMA node zero\n",
      "2022-07-10 12:34:56.774687: I tensorflow/stream_executor/cuda/cuda_gpu_executor.cc:975] successful NUMA node read from SysFS had negative value (-1), but there must be at least one NUMA node, so returning NUMA node zero\n",
      "2022-07-10 12:34:56.775038: I tensorflow/stream_executor/cuda/cuda_gpu_executor.cc:975] successful NUMA node read from SysFS had negative value (-1), but there must be at least one NUMA node, so returning NUMA node zero\n",
      "2022-07-10 12:34:56.775604: I tensorflow/core/platform/cpu_feature_guard.cc:193] This TensorFlow binary is optimized with oneAPI Deep Neural Network Library (oneDNN) to use the following CPU instructions in performance-critical operations:  AVX2 FMA\n",
      "To enable them in other operations, rebuild TensorFlow with the appropriate compiler flags.\n",
      "2022-07-10 12:34:56.776283: I tensorflow/stream_executor/cuda/cuda_gpu_executor.cc:975] successful NUMA node read from SysFS had negative value (-1), but there must be at least one NUMA node, so returning NUMA node zero\n",
      "2022-07-10 12:34:56.776795: I tensorflow/stream_executor/cuda/cuda_gpu_executor.cc:975] successful NUMA node read from SysFS had negative value (-1), but there must be at least one NUMA node, so returning NUMA node zero\n",
      "2022-07-10 12:34:56.777146: I tensorflow/stream_executor/cuda/cuda_gpu_executor.cc:975] successful NUMA node read from SysFS had negative value (-1), but there must be at least one NUMA node, so returning NUMA node zero\n",
      "2022-07-10 12:34:58.196464: I tensorflow/stream_executor/cuda/cuda_gpu_executor.cc:975] successful NUMA node read from SysFS had negative value (-1), but there must be at least one NUMA node, so returning NUMA node zero\n",
      "2022-07-10 12:34:58.196680: I tensorflow/stream_executor/cuda/cuda_gpu_executor.cc:975] successful NUMA node read from SysFS had negative value (-1), but there must be at least one NUMA node, so returning NUMA node zero\n",
      "2022-07-10 12:34:58.196824: I tensorflow/stream_executor/cuda/cuda_gpu_executor.cc:975] successful NUMA node read from SysFS had negative value (-1), but there must be at least one NUMA node, so returning NUMA node zero\n",
      "2022-07-10 12:34:58.196958: I tensorflow/core/common_runtime/gpu/gpu_device.cc:1532] Created device /job:localhost/replica:0/task:0/device:GPU:0 with 3387 MB memory:  -> device: 0, name: NVIDIA GeForce GTX 950M, pci bus id: 0000:01:00.0, compute capability: 5.0\n",
      "2022-07-10 12:34:59.549664: I tensorflow/stream_executor/cuda/cuda_dnn.cc:384] Loaded cuDNN version 8400\n"
     ]
    },
    {
     "name": "stdout",
     "output_type": "stream",
     "text": [
      "313/313 [==============================] - 2s 4ms/step - loss: 0.2974 - categorical_accuracy: 0.8910\n"
     ]
    },
    {
     "data": {
      "text/plain": "[0.2973955273628235, 0.890999972820282]"
     },
     "execution_count": 3,
     "metadata": {},
     "output_type": "execute_result"
    }
   ],
   "source": [
    "classifier = keras.models.load_model(SAVED_CLASSIFIER_PATH_FASHION)\n",
    "classifier.evaluate(test_images, test_labels_c)"
   ],
   "metadata": {
    "collapsed": false,
    "pycharm": {
     "name": "#%%\n"
    }
   }
  },
  {
   "cell_type": "code",
   "execution_count": 4,
   "id": "e8386880-1758-4f7d-ac68-66d185651d7f",
   "metadata": {
    "pycharm": {
     "name": "#%%\n"
    }
   },
   "outputs": [
    {
     "name": "stdout",
     "output_type": "stream",
     "text": [
      "Evaluating  /home/tom/Uni_Dev/cladec-mnist/saved-models/fashion_mnist/cladec/ 0/my_dense\n",
      "313/313 [==============================] - 2s 6ms/step - loss: 0.0283 - reconstruction_loss: 0.0285 - classification_loss: 1.5014\n",
      "Evaluating  /home/tom/Uni_Dev/cladec-mnist/saved-models/fashion_mnist/cladec/ 1/my_dense\n",
      "313/313 [==============================] - 2s 6ms/step - loss: 0.0322 - reconstruction_loss: 0.0294 - classification_loss: 0.3265\n",
      "Evaluating  /home/tom/Uni_Dev/cladec-mnist/saved-models/fashion_mnist/cladec/ 5/my_dense\n",
      "313/313 [==============================] - 2s 6ms/step - loss: 0.0478 - reconstruction_loss: 0.0328 - classification_loss: 0.3370\n",
      "Evaluating  /home/tom/Uni_Dev/cladec-mnist/saved-models/fashion_mnist/cladec/10/my_dense\n",
      "313/313 [==============================] - 2s 6ms/step - loss: 0.0696 - reconstruction_loss: 0.0388 - classification_loss: 0.3470\n",
      "Evaluating  /home/tom/Uni_Dev/cladec-mnist/saved-models/fashion_mnist/cladec/25/my_dense\n",
      "313/313 [==============================] - 2s 6ms/step - loss: 0.1277 - reconstruction_loss: 0.0544 - classification_loss: 0.3476\n",
      "Evaluating  /home/tom/Uni_Dev/cladec-mnist/saved-models/fashion_mnist/cladec/50/my_dense\n",
      "313/313 [==============================] - 2s 6ms/step - loss: 0.2438 - reconstruction_loss: 0.1135 - classification_loss: 0.3738\n",
      "Evaluating  /home/tom/Uni_Dev/cladec-mnist/saved-models/fashion_mnist/cladec/99/my_dense\n",
      "313/313 [==============================] - 2s 7ms/step - loss: 0.4419 - reconstruction_loss: 0.4475 - classification_loss: 0.4418\n"
     ]
    }
   ],
   "source": [
    "decoder_dense = ClaDec.create_128_dense_decoder()\n",
    "for alpha in ALPHAS:\n",
    "    cladec_path = SAVED_CLADEC_PATH_FASHION.joinpath(f'{alpha:2}')\n",
    "    cladec_dense = ClaDec.create_from_weights(cladec_path.joinpath(DENSE_LAYER_NAME).joinpath(DENSE_LAYER_NAME),\n",
    "                                              classifier, DENSE_LAYER_NAME, alpha / 100, decoder_dense)\n",
    "    print(\"Evaluating \", cladec_path.joinpath(DENSE_LAYER_NAME))\n",
    "    cladec_dense.evaluate(test_images, test_labels_c)"
   ]
  },
  {
   "cell_type": "code",
   "execution_count": 5,
   "outputs": [
    {
     "name": "stdout",
     "output_type": "stream",
     "text": [
      "Evaluating  /home/tom/Uni_Dev/cladec-mnist/saved-models/fashion_mnist/cladec/ 0/my_conv\n",
      "313/313 [==============================] - 2s 7ms/step - loss: 0.0043 - reconstruction_loss: 0.0043 - classification_loss: 0.4771\n",
      "Evaluating  /home/tom/Uni_Dev/cladec-mnist/saved-models/fashion_mnist/cladec/ 1/my_conv\n",
      "313/313 [==============================] - 2s 6ms/step - loss: 0.0077 - reconstruction_loss: 0.0051 - classification_loss: 0.2693\n",
      "Evaluating  /home/tom/Uni_Dev/cladec-mnist/saved-models/fashion_mnist/cladec/ 5/my_conv\n",
      "313/313 [==============================] - 2s 6ms/step - loss: 0.0211 - reconstruction_loss: 0.0081 - classification_loss: 0.2687\n",
      "Evaluating  /home/tom/Uni_Dev/cladec-mnist/saved-models/fashion_mnist/cladec/10/my_conv\n",
      "313/313 [==============================] - 2s 6ms/step - loss: 0.0367 - reconstruction_loss: 0.0108 - classification_loss: 0.2705\n",
      "Evaluating  /home/tom/Uni_Dev/cladec-mnist/saved-models/fashion_mnist/cladec/25/my_conv\n",
      "313/313 [==============================] - 2s 6ms/step - loss: 0.0787 - reconstruction_loss: 0.0182 - classification_loss: 0.2602\n",
      "Evaluating  /home/tom/Uni_Dev/cladec-mnist/saved-models/fashion_mnist/cladec/50/my_conv\n",
      "313/313 [==============================] - 2s 6ms/step - loss: 0.1591 - reconstruction_loss: 0.0367 - classification_loss: 0.2816\n",
      "Evaluating  /home/tom/Uni_Dev/cladec-mnist/saved-models/fashion_mnist/cladec/99/my_conv\n",
      "313/313 [==============================] - 2s 6ms/step - loss: 0.3957 - reconstruction_loss: 0.1540 - classification_loss: 0.3982\n"
     ]
    }
   ],
   "source": [
    "decoder_conv = ClaDec.create_64_conv_decoder()\n",
    "for alpha in ALPHAS:\n",
    "    cladec_path = SAVED_CLADEC_PATH_FASHION.joinpath(f'{alpha:2}')\n",
    "    cladec_conv = ClaDec.create_from_weights(cladec_path.joinpath(CONV_LAYER_NAME).joinpath(CONV_LAYER_NAME),\n",
    "                                             classifier, CONV_LAYER_NAME, alpha / 100, decoder_conv)\n",
    "    print(\"Evaluating \", cladec_path.joinpath(CONV_LAYER_NAME))\n",
    "    cladec_conv.evaluate(test_images, test_labels_c)"
   ],
   "metadata": {
    "collapsed": false,
    "pycharm": {
     "name": "#%%\n"
    }
   }
  },
  {
   "cell_type": "code",
   "execution_count": 6,
   "outputs": [
    {
     "name": "stdout",
     "output_type": "stream",
     "text": [
      "Evaluating  /home/tom/Uni_Dev/cladec-mnist/saved-models/fashion_mnist/refae/my_dense\n",
      "313/313 [==============================] - 1s 4ms/step - reconstruction_loss: 0.0085\n",
      "Evaluating  /home/tom/Uni_Dev/cladec-mnist/saved-models/fashion_mnist/refae/my_conv\n",
      "313/313 [==============================] - 1s 4ms/step - reconstruction_loss: 0.0014\n"
     ]
    },
    {
     "data": {
      "text/plain": "0.0014300914481282234"
     },
     "execution_count": 6,
     "metadata": {},
     "output_type": "execute_result"
    }
   ],
   "source": [
    "# load RefAE model\n",
    "refae_dense = RefAE.create_from_weights(SAVED_REFAE_PATH_FASHION.joinpath(DENSE_LAYER_NAME).joinpath(DENSE_LAYER_NAME),\n",
    "                                        cladec_dense)\n",
    "refae_conv = RefAE.create_from_weights(SAVED_REFAE_PATH_FASHION.joinpath(CONV_LAYER_NAME).joinpath(CONV_LAYER_NAME),\n",
    "                                       cladec_conv)\n",
    "# get reference reconstructions\n",
    "print(\"Evaluating \", SAVED_REFAE_PATH_FASHION.joinpath(DENSE_LAYER_NAME))\n",
    "refae_dense.evaluate(test_images)\n",
    "print(\"Evaluating \", SAVED_REFAE_PATH_FASHION.joinpath(CONV_LAYER_NAME))\n",
    "refae_conv.evaluate(test_images)"
   ],
   "metadata": {
    "collapsed": false,
    "pycharm": {
     "name": "#%%\n"
    }
   }
  }
 ],
 "metadata": {
  "kernelspec": {
   "display_name": "cladec-mnist",
   "language": "python",
   "name": "cladec-mnist"
  },
  "language_info": {
   "codemirror_mode": {
    "name": "ipython",
    "version": 3
   },
   "file_extension": ".py",
   "mimetype": "text/x-python",
   "name": "python",
   "nbconvert_exporter": "python",
   "pygments_lexer": "ipython3",
   "version": "3.10.4"
  }
 },
 "nbformat": 4,
 "nbformat_minor": 5
}