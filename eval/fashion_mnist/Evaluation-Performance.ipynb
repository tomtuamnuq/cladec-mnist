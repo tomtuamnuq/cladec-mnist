{
 "cells": [
  {
   "cell_type": "code",
   "execution_count": 1,
   "id": "26271def-641f-48f5-87b2-88c53cf1e4a4",
   "metadata": {
    "pycharm": {
     "name": "#%%\n"
    }
   },
   "outputs": [],
   "source": [
    "import os, pathlib\n",
    "\n",
    "file_path = os.path.dirname(os.path.realpath(\"__file__\"))\n",
    "home_dir = pathlib.Path(file_path).parent.parent\n",
    "os.chdir(home_dir)"
   ]
  },
  {
   "cell_type": "code",
   "execution_count": 2,
   "id": "2f995e98-7021-4614-99c1-217d0752a3ae",
   "metadata": {
    "pycharm": {
     "name": "#%%\n"
    }
   },
   "outputs": [],
   "source": [
    "import tensorflow as tf\n",
    "from tensorflow import keras\n",
    "import numpy as np\n",
    "from src.utils import SAVED_PICS_PATH, keras_dataset_image_preprocessing, DENSE_LAYER_NAME, CONV_LAYER_NAME, ALPHAS\n",
    "from src.utils import SAVED_CLASSIFIER_PATH_FASHION, SAVED_CLADEC_PATH_FASHION, SAVED_REFAE_PATH_FASHION\n",
    "from src.cladec import ClaDec, RefAE\n",
    "\n",
    "(train_images, train_labels_c), (\n",
    "test_images, test_labels_c) = keras_dataset_image_preprocessing(keras.datasets.fashion_mnist)\n",
    "SAVED_EVAL_PICS_PATH = SAVED_PICS_PATH.joinpath('fashion_mnist')\n",
    "\n",
    "tf.random.set_seed(1234)\n",
    "np.random.seed(1234)"
   ]
  },
  {
   "cell_type": "code",
   "execution_count": 3,
   "outputs": [
    {
     "name": "stderr",
     "output_type": "stream",
     "text": [
      "2022-07-26 23:15:38.322762: I tensorflow/stream_executor/cuda/cuda_gpu_executor.cc:975] successful NUMA node read from SysFS had negative value (-1), but there must be at least one NUMA node, so returning NUMA node zero\n",
      "2022-07-26 23:15:38.354054: I tensorflow/stream_executor/cuda/cuda_gpu_executor.cc:975] successful NUMA node read from SysFS had negative value (-1), but there must be at least one NUMA node, so returning NUMA node zero\n",
      "2022-07-26 23:15:38.354267: I tensorflow/stream_executor/cuda/cuda_gpu_executor.cc:975] successful NUMA node read from SysFS had negative value (-1), but there must be at least one NUMA node, so returning NUMA node zero\n",
      "2022-07-26 23:15:38.354724: I tensorflow/core/platform/cpu_feature_guard.cc:193] This TensorFlow binary is optimized with oneAPI Deep Neural Network Library (oneDNN) to use the following CPU instructions in performance-critical operations:  AVX2 FMA\n",
      "To enable them in other operations, rebuild TensorFlow with the appropriate compiler flags.\n",
      "2022-07-26 23:15:38.355522: I tensorflow/stream_executor/cuda/cuda_gpu_executor.cc:975] successful NUMA node read from SysFS had negative value (-1), but there must be at least one NUMA node, so returning NUMA node zero\n",
      "2022-07-26 23:15:38.355747: I tensorflow/stream_executor/cuda/cuda_gpu_executor.cc:975] successful NUMA node read from SysFS had negative value (-1), but there must be at least one NUMA node, so returning NUMA node zero\n",
      "2022-07-26 23:15:38.355886: I tensorflow/stream_executor/cuda/cuda_gpu_executor.cc:975] successful NUMA node read from SysFS had negative value (-1), but there must be at least one NUMA node, so returning NUMA node zero\n",
      "2022-07-26 23:15:38.849453: I tensorflow/stream_executor/cuda/cuda_gpu_executor.cc:975] successful NUMA node read from SysFS had negative value (-1), but there must be at least one NUMA node, so returning NUMA node zero\n",
      "2022-07-26 23:15:38.849697: I tensorflow/stream_executor/cuda/cuda_gpu_executor.cc:975] successful NUMA node read from SysFS had negative value (-1), but there must be at least one NUMA node, so returning NUMA node zero\n",
      "2022-07-26 23:15:38.849843: I tensorflow/stream_executor/cuda/cuda_gpu_executor.cc:975] successful NUMA node read from SysFS had negative value (-1), but there must be at least one NUMA node, so returning NUMA node zero\n",
      "2022-07-26 23:15:38.849965: I tensorflow/core/common_runtime/gpu/gpu_device.cc:1532] Created device /job:localhost/replica:0/task:0/device:GPU:0 with 3388 MB memory:  -> device: 0, name: NVIDIA GeForce GTX 950M, pci bus id: 0000:01:00.0, compute capability: 5.0\n",
      "2022-07-26 23:15:40.161791: I tensorflow/stream_executor/cuda/cuda_dnn.cc:384] Loaded cuDNN version 8401\n"
     ]
    },
    {
     "name": "stdout",
     "output_type": "stream",
     "text": [
      "313/313 [==============================] - 2s 4ms/step - loss: 0.2285 - categorical_accuracy: 0.9206\n"
     ]
    },
    {
     "data": {
      "text/plain": "[0.22849780321121216, 0.9205999970436096]"
     },
     "execution_count": 3,
     "metadata": {},
     "output_type": "execute_result"
    }
   ],
   "source": [
    "classifier = keras.models.load_model(SAVED_CLASSIFIER_PATH_FASHION)\n",
    "classifier.evaluate(test_images, test_labels_c)"
   ],
   "metadata": {
    "collapsed": false,
    "pycharm": {
     "name": "#%%\n"
    }
   }
  },
  {
   "cell_type": "code",
   "execution_count": 4,
   "id": "e8386880-1758-4f7d-ac68-66d185651d7f",
   "metadata": {
    "pycharm": {
     "name": "#%%\n"
    }
   },
   "outputs": [
    {
     "name": "stdout",
     "output_type": "stream",
     "text": [
      "Evaluating  /home/tom/Uni_Dev/cladec-mnist/saved-models/fashion_mnist/cladec/ 0/my_dense\n",
      "313/313 [==============================] - 3s 6ms/step - loss: 21.6701 - reconstruction_loss: 21.8367 - classification_loss: 0.8742\n",
      "Evaluating  /home/tom/Uni_Dev/cladec-mnist/saved-models/fashion_mnist/cladec/ 1/my_dense\n",
      "313/313 [==============================] - 2s 6ms/step - loss: 21.5835 - reconstruction_loss: 21.9727 - classification_loss: 0.8059\n",
      "Evaluating  /home/tom/Uni_Dev/cladec-mnist/saved-models/fashion_mnist/cladec/ 5/my_dense\n",
      "313/313 [==============================] - 2s 6ms/step - loss: 20.6430 - reconstruction_loss: 21.8747 - classification_loss: 0.6540\n",
      "Evaluating  /home/tom/Uni_Dev/cladec-mnist/saved-models/fashion_mnist/cladec/10/my_dense\n",
      "313/313 [==============================] - 2s 6ms/step - loss: 19.5970 - reconstruction_loss: 21.9050 - classification_loss: 0.5685\n",
      "Evaluating  /home/tom/Uni_Dev/cladec-mnist/saved-models/fashion_mnist/cladec/25/my_dense\n",
      "313/313 [==============================] - 2s 6ms/step - loss: 16.3778 - reconstruction_loss: 21.8578 - classification_loss: 0.4143\n",
      "Evaluating  /home/tom/Uni_Dev/cladec-mnist/saved-models/fashion_mnist/cladec/50/my_dense\n",
      "313/313 [==============================] - 2s 6ms/step - loss: 11.0398 - reconstruction_loss: 21.9269 - classification_loss: 0.3285\n",
      "Evaluating  /home/tom/Uni_Dev/cladec-mnist/saved-models/fashion_mnist/cladec/99/my_dense\n",
      "313/313 [==============================] - 2s 6ms/step - loss: 0.6465 - reconstruction_loss: 30.0096 - classification_loss: 0.3516\n",
      "Evaluating  /home/tom/Uni_Dev/cladec-mnist/saved-models/fashion_mnist/cladec/99.9/my_dense\n",
      "313/313 [==============================] - 3s 6ms/step - loss: 0.4385 - reconstruction_loss: 90.4575 - classification_loss: 0.3484\n",
      "Evaluating  /home/tom/Uni_Dev/cladec-mnist/saved-models/fashion_mnist/cladec/99.99/my_dense\n",
      "313/313 [==============================] - 2s 6ms/step - loss: 0.3720 - reconstruction_loss: 275.7250 - classification_loss: 0.3444\n",
      "Evaluating  /home/tom/Uni_Dev/cladec-mnist/saved-models/fashion_mnist/cladec/100/my_dense\n",
      "313/313 [==============================] - 2s 5ms/step - loss: 0.3550 - reconstruction_loss: 375.3105 - classification_loss: 0.3550\n"
     ]
    }
   ],
   "source": [
    "decoder_dense = ClaDec.create_128_dense_decoder()\n",
    "for alpha in ALPHAS:\n",
    "    cladec_path = SAVED_CLADEC_PATH_FASHION.joinpath(f'{alpha:2}')\n",
    "    cladec_dense = ClaDec.create_from_weights(cladec_path.joinpath(DENSE_LAYER_NAME).joinpath(DENSE_LAYER_NAME),\n",
    "                                              classifier,\n",
    "                                              DENSE_LAYER_NAME,\n",
    "                                              alpha / 100,\n",
    "                                              decoder_dense)\n",
    "    print(\"Evaluating \", cladec_path.joinpath(DENSE_LAYER_NAME))\n",
    "    cladec_dense.evaluate(test_images, test_labels_c)"
   ]
  },
  {
   "cell_type": "code",
   "execution_count": 5,
   "outputs": [
    {
     "name": "stdout",
     "output_type": "stream",
     "text": [
      "Evaluating  /home/tom/Uni_Dev/cladec-mnist/saved-models/fashion_mnist/cladec/ 0/my_conv\n",
      "313/313 [==============================] - 2s 6ms/step - loss: 3.5262 - reconstruction_loss: 3.5431 - classification_loss: 0.3170\n",
      "Evaluating  /home/tom/Uni_Dev/cladec-mnist/saved-models/fashion_mnist/cladec/ 1/my_conv\n",
      "313/313 [==============================] - 2s 7ms/step - loss: 3.4925 - reconstruction_loss: 3.5407 - classification_loss: 0.3125\n",
      "Evaluating  /home/tom/Uni_Dev/cladec-mnist/saved-models/fashion_mnist/cladec/ 5/my_conv\n",
      "313/313 [==============================] - 2s 7ms/step - loss: 3.3703 - reconstruction_loss: 3.5455 - classification_loss: 0.3142\n",
      "Evaluating  /home/tom/Uni_Dev/cladec-mnist/saved-models/fashion_mnist/cladec/10/my_conv\n",
      "313/313 [==============================] - 2s 6ms/step - loss: 3.2233 - reconstruction_loss: 3.5665 - classification_loss: 0.3063\n",
      "Evaluating  /home/tom/Uni_Dev/cladec-mnist/saved-models/fashion_mnist/cladec/25/my_conv\n",
      "313/313 [==============================] - 2s 6ms/step - loss: 2.7301 - reconstruction_loss: 3.5602 - classification_loss: 0.2894\n",
      "Evaluating  /home/tom/Uni_Dev/cladec-mnist/saved-models/fashion_mnist/cladec/50/my_conv\n",
      "313/313 [==============================] - 2s 6ms/step - loss: 1.9213 - reconstruction_loss: 3.5855 - classification_loss: 0.2748\n",
      "Evaluating  /home/tom/Uni_Dev/cladec-mnist/saved-models/fashion_mnist/cladec/99/my_conv\n",
      "313/313 [==============================] - 2s 6ms/step - loss: 0.3478 - reconstruction_loss: 8.9629 - classification_loss: 0.2611\n",
      "Evaluating  /home/tom/Uni_Dev/cladec-mnist/saved-models/fashion_mnist/cladec/99.9/my_conv\n",
      "313/313 [==============================] - 3s 8ms/step - loss: 0.3051 - reconstruction_loss: 26.4555 - classification_loss: 0.2789\n",
      "Evaluating  /home/tom/Uni_Dev/cladec-mnist/saved-models/fashion_mnist/cladec/99.99/my_conv\n",
      "313/313 [==============================] - 2s 6ms/step - loss: 0.3842 - reconstruction_loss: 100.7507 - classification_loss: 0.3741\n",
      "Evaluating  /home/tom/Uni_Dev/cladec-mnist/saved-models/fashion_mnist/cladec/100/my_conv\n",
      "313/313 [==============================] - 2s 6ms/step - loss: 0.3422 - reconstruction_loss: 93.0233 - classification_loss: 0.3422\n"
     ]
    }
   ],
   "source": [
    "decoder_conv = ClaDec.create_64_conv_decoder()\n",
    "for alpha in ALPHAS:\n",
    "    cladec_path = SAVED_CLADEC_PATH_FASHION.joinpath(f'{alpha:2}')\n",
    "    cladec_conv = ClaDec.create_from_weights(cladec_path.joinpath(CONV_LAYER_NAME).joinpath(CONV_LAYER_NAME),\n",
    "                                             classifier,\n",
    "                                             CONV_LAYER_NAME,\n",
    "                                             alpha / 100,\n",
    "                                             decoder_conv)\n",
    "    print(\"Evaluating \", cladec_path.joinpath(CONV_LAYER_NAME))\n",
    "    cladec_conv.evaluate(test_images, test_labels_c)"
   ],
   "metadata": {
    "collapsed": false,
    "pycharm": {
     "name": "#%%\n"
    }
   }
  },
  {
   "cell_type": "code",
   "execution_count": 6,
   "outputs": [
    {
     "name": "stdout",
     "output_type": "stream",
     "text": [
      "WARNING:tensorflow:Detecting that an object or model or tf.train.Checkpoint is being deleted with unrestored values. See the following logs for the specific values in question. To silence these warnings, use `status.expect_partial()`. See https://www.tensorflow.org/api_docs/python/tf/train/Checkpoint#restorefor details about the status object returned by the restore function.\n",
      "WARNING:tensorflow:Value in checkpoint could not be found in the restored object: (root).optimizer.iter\n",
      "WARNING:tensorflow:Value in checkpoint could not be found in the restored object: (root).optimizer.beta_1\n",
      "WARNING:tensorflow:Value in checkpoint could not be found in the restored object: (root).optimizer.beta_2\n",
      "WARNING:tensorflow:Value in checkpoint could not be found in the restored object: (root).optimizer.decay\n",
      "WARNING:tensorflow:Value in checkpoint could not be found in the restored object: (root).optimizer.learning_rate\n",
      "WARNING:tensorflow:Value in checkpoint could not be found in the restored object: (root).optimizer's state 'm' for (root).decoder.layer_with_weights-0.kernel\n",
      "WARNING:tensorflow:Value in checkpoint could not be found in the restored object: (root).optimizer's state 'm' for (root).decoder.layer_with_weights-0.bias\n",
      "WARNING:tensorflow:Value in checkpoint could not be found in the restored object: (root).optimizer's state 'm' for (root).decoder.layer_with_weights-1.kernel\n",
      "WARNING:tensorflow:Value in checkpoint could not be found in the restored object: (root).optimizer's state 'm' for (root).decoder.layer_with_weights-1.bias\n",
      "WARNING:tensorflow:Value in checkpoint could not be found in the restored object: (root).optimizer's state 'm' for (root).decoder.layer_with_weights-2.kernel\n",
      "WARNING:tensorflow:Value in checkpoint could not be found in the restored object: (root).optimizer's state 'm' for (root).decoder.layer_with_weights-2.bias\n",
      "WARNING:tensorflow:Value in checkpoint could not be found in the restored object: (root).optimizer's state 'v' for (root).decoder.layer_with_weights-0.kernel\n",
      "WARNING:tensorflow:Value in checkpoint could not be found in the restored object: (root).optimizer's state 'v' for (root).decoder.layer_with_weights-0.bias\n",
      "WARNING:tensorflow:Value in checkpoint could not be found in the restored object: (root).optimizer's state 'v' for (root).decoder.layer_with_weights-1.kernel\n",
      "WARNING:tensorflow:Value in checkpoint could not be found in the restored object: (root).optimizer's state 'v' for (root).decoder.layer_with_weights-1.bias\n",
      "WARNING:tensorflow:Value in checkpoint could not be found in the restored object: (root).optimizer's state 'v' for (root).decoder.layer_with_weights-2.kernel\n",
      "WARNING:tensorflow:Value in checkpoint could not be found in the restored object: (root).optimizer's state 'v' for (root).decoder.layer_with_weights-2.bias\n",
      "WARNING:tensorflow:Detecting that an object or model or tf.train.Checkpoint is being deleted with unrestored values. See the following logs for the specific values in question. To silence these warnings, use `status.expect_partial()`. See https://www.tensorflow.org/api_docs/python/tf/train/Checkpoint#restorefor details about the status object returned by the restore function.\n",
      "WARNING:tensorflow:Value in checkpoint could not be found in the restored object: (root).optimizer.iter\n",
      "WARNING:tensorflow:Value in checkpoint could not be found in the restored object: (root).optimizer.beta_1\n",
      "WARNING:tensorflow:Value in checkpoint could not be found in the restored object: (root).optimizer.beta_2\n",
      "WARNING:tensorflow:Value in checkpoint could not be found in the restored object: (root).optimizer.decay\n",
      "WARNING:tensorflow:Value in checkpoint could not be found in the restored object: (root).optimizer.learning_rate\n",
      "WARNING:tensorflow:Value in checkpoint could not be found in the restored object: (root).optimizer's state 'm' for (root).decoder.layer_with_weights-0.kernel\n",
      "WARNING:tensorflow:Value in checkpoint could not be found in the restored object: (root).optimizer's state 'm' for (root).decoder.layer_with_weights-0.bias\n",
      "WARNING:tensorflow:Value in checkpoint could not be found in the restored object: (root).optimizer's state 'm' for (root).decoder.layer_with_weights-1.kernel\n",
      "WARNING:tensorflow:Value in checkpoint could not be found in the restored object: (root).optimizer's state 'm' for (root).decoder.layer_with_weights-1.bias\n",
      "WARNING:tensorflow:Value in checkpoint could not be found in the restored object: (root).optimizer's state 'm' for (root).decoder.layer_with_weights-2.kernel\n",
      "WARNING:tensorflow:Value in checkpoint could not be found in the restored object: (root).optimizer's state 'm' for (root).decoder.layer_with_weights-2.bias\n",
      "WARNING:tensorflow:Value in checkpoint could not be found in the restored object: (root).optimizer's state 'v' for (root).decoder.layer_with_weights-0.kernel\n",
      "WARNING:tensorflow:Value in checkpoint could not be found in the restored object: (root).optimizer's state 'v' for (root).decoder.layer_with_weights-0.bias\n",
      "WARNING:tensorflow:Value in checkpoint could not be found in the restored object: (root).optimizer's state 'v' for (root).decoder.layer_with_weights-1.kernel\n",
      "WARNING:tensorflow:Value in checkpoint could not be found in the restored object: (root).optimizer's state 'v' for (root).decoder.layer_with_weights-1.bias\n",
      "WARNING:tensorflow:Value in checkpoint could not be found in the restored object: (root).optimizer's state 'v' for (root).decoder.layer_with_weights-2.kernel\n",
      "WARNING:tensorflow:Value in checkpoint could not be found in the restored object: (root).optimizer's state 'v' for (root).decoder.layer_with_weights-2.bias\n",
      "WARNING:tensorflow:Detecting that an object or model or tf.train.Checkpoint is being deleted with unrestored values. See the following logs for the specific values in question. To silence these warnings, use `status.expect_partial()`. See https://www.tensorflow.org/api_docs/python/tf/train/Checkpoint#restorefor details about the status object returned by the restore function.\n",
      "WARNING:tensorflow:Value in checkpoint could not be found in the restored object: (root).optimizer.iter\n",
      "WARNING:tensorflow:Value in checkpoint could not be found in the restored object: (root).optimizer.beta_1\n",
      "WARNING:tensorflow:Value in checkpoint could not be found in the restored object: (root).optimizer.beta_2\n",
      "WARNING:tensorflow:Value in checkpoint could not be found in the restored object: (root).optimizer.decay\n",
      "WARNING:tensorflow:Value in checkpoint could not be found in the restored object: (root).optimizer.learning_rate\n",
      "WARNING:tensorflow:Value in checkpoint could not be found in the restored object: (root).optimizer's state 'm' for (root).decoder.layer_with_weights-0.kernel\n",
      "WARNING:tensorflow:Value in checkpoint could not be found in the restored object: (root).optimizer's state 'm' for (root).decoder.layer_with_weights-0.bias\n",
      "WARNING:tensorflow:Value in checkpoint could not be found in the restored object: (root).optimizer's state 'm' for (root).decoder.layer_with_weights-1.kernel\n",
      "WARNING:tensorflow:Value in checkpoint could not be found in the restored object: (root).optimizer's state 'm' for (root).decoder.layer_with_weights-1.bias\n",
      "WARNING:tensorflow:Value in checkpoint could not be found in the restored object: (root).optimizer's state 'v' for (root).decoder.layer_with_weights-0.kernel\n",
      "WARNING:tensorflow:Value in checkpoint could not be found in the restored object: (root).optimizer's state 'v' for (root).decoder.layer_with_weights-0.bias\n",
      "WARNING:tensorflow:Value in checkpoint could not be found in the restored object: (root).optimizer's state 'v' for (root).decoder.layer_with_weights-1.kernel\n",
      "WARNING:tensorflow:Value in checkpoint could not be found in the restored object: (root).optimizer's state 'v' for (root).decoder.layer_with_weights-1.bias\n",
      "WARNING:tensorflow:Detecting that an object or model or tf.train.Checkpoint is being deleted with unrestored values. See the following logs for the specific values in question. To silence these warnings, use `status.expect_partial()`. See https://www.tensorflow.org/api_docs/python/tf/train/Checkpoint#restorefor details about the status object returned by the restore function.\n",
      "WARNING:tensorflow:Value in checkpoint could not be found in the restored object: (root).optimizer.iter\n",
      "WARNING:tensorflow:Value in checkpoint could not be found in the restored object: (root).optimizer.beta_1\n",
      "WARNING:tensorflow:Value in checkpoint could not be found in the restored object: (root).optimizer.beta_2\n",
      "WARNING:tensorflow:Value in checkpoint could not be found in the restored object: (root).optimizer.decay\n",
      "WARNING:tensorflow:Value in checkpoint could not be found in the restored object: (root).optimizer.learning_rate\n",
      "WARNING:tensorflow:Value in checkpoint could not be found in the restored object: (root).optimizer's state 'm' for (root).decoder.layer_with_weights-0.kernel\n",
      "WARNING:tensorflow:Value in checkpoint could not be found in the restored object: (root).optimizer's state 'm' for (root).decoder.layer_with_weights-0.bias\n",
      "WARNING:tensorflow:Value in checkpoint could not be found in the restored object: (root).optimizer's state 'm' for (root).decoder.layer_with_weights-1.kernel\n",
      "WARNING:tensorflow:Value in checkpoint could not be found in the restored object: (root).optimizer's state 'm' for (root).decoder.layer_with_weights-1.bias\n",
      "WARNING:tensorflow:Value in checkpoint could not be found in the restored object: (root).optimizer's state 'v' for (root).decoder.layer_with_weights-0.kernel\n",
      "WARNING:tensorflow:Value in checkpoint could not be found in the restored object: (root).optimizer's state 'v' for (root).decoder.layer_with_weights-0.bias\n",
      "WARNING:tensorflow:Value in checkpoint could not be found in the restored object: (root).optimizer's state 'v' for (root).decoder.layer_with_weights-1.kernel\n",
      "WARNING:tensorflow:Value in checkpoint could not be found in the restored object: (root).optimizer's state 'v' for (root).decoder.layer_with_weights-1.bias\n",
      "Evaluating  /home/tom/Uni_Dev/cladec-mnist/saved-models/fashion_mnist/refae/my_dense\n",
      "313/313 [==============================] - 1s 3ms/step - reconstruction_loss: 7.1243\n",
      "Evaluating  /home/tom/Uni_Dev/cladec-mnist/saved-models/fashion_mnist/refae/my_conv\n",
      "313/313 [==============================] - 1s 3ms/step - reconstruction_loss: 1.1253\n"
     ]
    },
    {
     "data": {
      "text/plain": "1.125318169593811"
     },
     "execution_count": 6,
     "metadata": {},
     "output_type": "execute_result"
    }
   ],
   "source": [
    "# load RefAE model\n",
    "refae_dense = RefAE.create_from_weights(SAVED_REFAE_PATH_FASHION.joinpath(DENSE_LAYER_NAME).joinpath(DENSE_LAYER_NAME),\n",
    "                                        cladec_dense)\n",
    "refae_conv = RefAE.create_from_weights(SAVED_REFAE_PATH_FASHION.joinpath(CONV_LAYER_NAME).joinpath(CONV_LAYER_NAME),\n",
    "                                       cladec_conv)\n",
    "# get reference reconstructions\n",
    "print(\"Evaluating \", SAVED_REFAE_PATH_FASHION.joinpath(DENSE_LAYER_NAME))\n",
    "refae_dense.evaluate(test_images)\n",
    "print(\"Evaluating \", SAVED_REFAE_PATH_FASHION.joinpath(CONV_LAYER_NAME))\n",
    "refae_conv.evaluate(test_images)"
   ],
   "metadata": {
    "collapsed": false,
    "pycharm": {
     "name": "#%%\n"
    }
   }
  }
 ],
 "metadata": {
  "kernelspec": {
   "display_name": "cladec-mnist",
   "language": "python",
   "name": "cladec-mnist"
  },
  "language_info": {
   "codemirror_mode": {
    "name": "ipython",
    "version": 3
   },
   "file_extension": ".py",
   "mimetype": "text/x-python",
   "name": "python",
   "nbconvert_exporter": "python",
   "pygments_lexer": "ipython3",
   "version": "3.10.4"
  }
 },
 "nbformat": 4,
 "nbformat_minor": 5
}