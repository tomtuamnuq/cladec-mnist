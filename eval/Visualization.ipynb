{
 "cells": [
  {
   "cell_type": "markdown",
   "source": [
    "# Model Summary and Layer Plots"
   ],
   "metadata": {
    "collapsed": false,
    "pycharm": {
     "name": "#%% md\n"
    }
   }
  },
  {
   "cell_type": "code",
   "execution_count": 1,
   "outputs": [],
   "source": [
    "import os, pathlib\n",
    "\n",
    "file_path = os.path.dirname(os.path.realpath(\"__file__\"))\n",
    "home_dir = pathlib.Path(file_path).parent\n",
    "os.chdir(home_dir)"
   ],
   "metadata": {
    "collapsed": false,
    "pycharm": {
     "name": "#%%\n"
    }
   }
  },
  {
   "cell_type": "code",
   "execution_count": 15,
   "outputs": [
    {
     "ename": "NameError",
     "evalue": "name 'SAVED_MODEL' is not defined",
     "output_type": "error",
     "traceback": [
      "\u001B[0;31m---------------------------------------------------------------------------\u001B[0m",
      "\u001B[0;31mNameError\u001B[0m                                 Traceback (most recent call last)",
      "Input \u001B[0;32mIn [15]\u001B[0m, in \u001B[0;36m<cell line: 6>\u001B[0;34m()\u001B[0m\n\u001B[1;32m      4\u001B[0m \u001B[38;5;28;01mimport\u001B[39;00m \u001B[38;5;21;01mnumpy\u001B[39;00m \u001B[38;5;28;01mas\u001B[39;00m \u001B[38;5;21;01mnp\u001B[39;00m\n\u001B[1;32m      5\u001B[0m \u001B[38;5;28;01mfrom\u001B[39;00m \u001B[38;5;21;01msrc\u001B[39;00m\u001B[38;5;21;01m.\u001B[39;00m\u001B[38;5;21;01mcommon\u001B[39;00m \u001B[38;5;28;01mimport\u001B[39;00m SAVED_PICS_PATH\n\u001B[0;32m----> 6\u001B[0m \u001B[43mSAVED_MODEL\u001B[49m\n\u001B[1;32m      7\u001B[0m \u001B[38;5;28;01mfrom\u001B[39;00m \u001B[38;5;21;01msrc\u001B[39;00m\u001B[38;5;21;01m.\u001B[39;00m\u001B[38;5;21;01mmodels\u001B[39;00m \u001B[38;5;28;01mimport\u001B[39;00m get_classifier_model_compiled, get_rafae, get_cladec\n\u001B[1;32m      9\u001B[0m tf\u001B[38;5;241m.\u001B[39mrandom\u001B[38;5;241m.\u001B[39mset_seed(\u001B[38;5;241m1234\u001B[39m)\n",
      "\u001B[0;31mNameError\u001B[0m: name 'SAVED_MODEL' is not defined"
     ]
    }
   ],
   "source": [
    "import tensorflow as tf\n",
    "from keras.utils.vis_utils import plot_model\n",
    "from keras.models import Model\n",
    "import numpy as np\n",
    "from src.common import SAVED_PICS_PATH\n",
    "\n",
    "SAVED_MODEL_PICS_PATH = SAVED_PICS_PATH.joinpath('models')\n",
    "from src.models import get_classifier_model_compiled, get_rafae, get_cladec\n",
    "\n",
    "tf.random.set_seed(1234)\n",
    "np.random.seed(1234)"
   ],
   "metadata": {
    "collapsed": false,
    "pycharm": {
     "name": "#%%\n"
    }
   }
  },
  {
   "cell_type": "markdown",
   "source": [
    "# Classifier"
   ],
   "metadata": {
    "collapsed": false,
    "pycharm": {
     "name": "#%% md\n"
    }
   }
  },
  {
   "cell_type": "code",
   "execution_count": 3,
   "outputs": [
    {
     "name": "stdout",
     "output_type": "stream",
     "text": [
      "Model: \"sequential\"\n",
      "_________________________________________________________________\n",
      " Layer (type)                Output Shape              Param #   \n",
      "=================================================================\n",
      " conv2d (Conv2D)             (None, 28, 28, 32)        320       \n",
      "                                                                 \n",
      " batch_normalization (BatchN  (None, 28, 28, 32)       128       \n",
      " ormalization)                                                   \n",
      "                                                                 \n",
      " max_pooling2d (MaxPooling2D  (None, 14, 14, 32)       0         \n",
      " )                                                               \n",
      "                                                                 \n",
      " conv2d_1 (Conv2D)           (None, 14, 14, 64)        18496     \n",
      "                                                                 \n",
      " batch_normalization_1 (Batc  (None, 14, 14, 64)       256       \n",
      " hNormalization)                                                 \n",
      "                                                                 \n",
      " max_pooling2d_1 (MaxPooling  (None, 7, 7, 64)         0         \n",
      " 2D)                                                             \n",
      "                                                                 \n",
      " flatten (Flatten)           (None, 3136)              0         \n",
      "                                                                 \n",
      " dropout (Dropout)           (None, 3136)              0         \n",
      "                                                                 \n",
      " dense (Dense)               (None, 128)               401536    \n",
      "                                                                 \n",
      " dense_1 (Dense)             (None, 10)                1290      \n",
      "                                                                 \n",
      "=================================================================\n",
      "Total params: 422,026\n",
      "Trainable params: 421,834\n",
      "Non-trainable params: 192\n",
      "_________________________________________________________________\n"
     ]
    },
    {
     "name": "stderr",
     "output_type": "stream",
     "text": [
      "2022-06-03 12:48:45.901469: I tensorflow/stream_executor/cuda/cuda_gpu_executor.cc:975] successful NUMA node read from SysFS had negative value (-1), but there must be at least one NUMA node, so returning NUMA node zero\n",
      "2022-06-03 12:48:45.935562: I tensorflow/stream_executor/cuda/cuda_gpu_executor.cc:975] successful NUMA node read from SysFS had negative value (-1), but there must be at least one NUMA node, so returning NUMA node zero\n",
      "2022-06-03 12:48:45.935890: I tensorflow/stream_executor/cuda/cuda_gpu_executor.cc:975] successful NUMA node read from SysFS had negative value (-1), but there must be at least one NUMA node, so returning NUMA node zero\n",
      "2022-06-03 12:48:45.936406: I tensorflow/core/platform/cpu_feature_guard.cc:193] This TensorFlow binary is optimized with oneAPI Deep Neural Network Library (oneDNN) to use the following CPU instructions in performance-critical operations:  AVX2 FMA\n",
      "To enable them in other operations, rebuild TensorFlow with the appropriate compiler flags.\n",
      "2022-06-03 12:48:45.936686: I tensorflow/stream_executor/cuda/cuda_gpu_executor.cc:975] successful NUMA node read from SysFS had negative value (-1), but there must be at least one NUMA node, so returning NUMA node zero\n",
      "2022-06-03 12:48:45.936992: I tensorflow/stream_executor/cuda/cuda_gpu_executor.cc:975] successful NUMA node read from SysFS had negative value (-1), but there must be at least one NUMA node, so returning NUMA node zero\n",
      "2022-06-03 12:48:45.937265: I tensorflow/stream_executor/cuda/cuda_gpu_executor.cc:975] successful NUMA node read from SysFS had negative value (-1), but there must be at least one NUMA node, so returning NUMA node zero\n",
      "2022-06-03 12:48:46.497600: I tensorflow/stream_executor/cuda/cuda_gpu_executor.cc:975] successful NUMA node read from SysFS had negative value (-1), but there must be at least one NUMA node, so returning NUMA node zero\n",
      "2022-06-03 12:48:46.497829: I tensorflow/stream_executor/cuda/cuda_gpu_executor.cc:975] successful NUMA node read from SysFS had negative value (-1), but there must be at least one NUMA node, so returning NUMA node zero\n",
      "2022-06-03 12:48:46.497990: I tensorflow/stream_executor/cuda/cuda_gpu_executor.cc:975] successful NUMA node read from SysFS had negative value (-1), but there must be at least one NUMA node, so returning NUMA node zero\n",
      "2022-06-03 12:48:46.498136: I tensorflow/core/common_runtime/gpu/gpu_device.cc:1532] Created device /job:localhost/replica:0/task:0/device:GPU:0 with 3388 MB memory:  -> device: 0, name: NVIDIA GeForce GTX 950M, pci bus id: 0000:01:00.0, compute capability: 5.0\n"
     ]
    }
   ],
   "source": [
    "classifier = get_classifier_model_compiled()\n",
    "classifier.summary()"
   ],
   "metadata": {
    "collapsed": false,
    "pycharm": {
     "name": "#%%\n"
    }
   }
  },
  {
   "cell_type": "code",
   "execution_count": 4,
   "outputs": [
    {
     "data": {
      "image/png": "[encoded data removed]",
      "text/plain": "<IPython.core.display.Image object>"
     },
     "execution_count": 4,
     "metadata": {},
     "output_type": "execute_result"
    }
   ],
   "source": [
    "plot_model(classifier, to_file=SAVED_MODEL_PICS_PATH.joinpath('classifier_perfectAE_plot.png'),\n",
    "           show_layer_activations=True,\n",
    "           show_layer_names=False, rankdir=\"LR\")"
   ],
   "metadata": {
    "collapsed": false,
    "pycharm": {
     "name": "#%%\n"
    }
   }
  },
  {
   "cell_type": "markdown",
   "source": [
    "# Reference Auto Encoder"
   ],
   "metadata": {
    "collapsed": false,
    "pycharm": {
     "name": "#%% md\n"
    }
   }
  },
  {
   "cell_type": "markdown",
   "source": [
    "## Dense"
   ],
   "metadata": {
    "collapsed": false,
    "pycharm": {
     "name": "#%% md\n"
    }
   }
  },
  {
   "cell_type": "code",
   "execution_count": 5,
   "outputs": [
    {
     "name": "stdout",
     "output_type": "stream",
     "text": [
      "Model: \"model\"\n",
      "_________________________________________________________________\n",
      " Layer (type)                Output Shape              Param #   \n",
      "=================================================================\n",
      " conv2d_2_input (InputLayer)  [(None, 28, 28, 1)]      0         \n",
      "                                                                 \n",
      " conv2d_2 (Conv2D)           (None, 28, 28, 32)        320       \n",
      "                                                                 \n",
      " batch_normalization_2 (Batc  (None, 28, 28, 32)       128       \n",
      " hNormalization)                                                 \n",
      "                                                                 \n",
      " max_pooling2d_2 (MaxPooling  (None, 14, 14, 32)       0         \n",
      " 2D)                                                             \n",
      "                                                                 \n",
      " conv2d_3 (Conv2D)           (None, 14, 14, 64)        18496     \n",
      "                                                                 \n",
      " batch_normalization_3 (Batc  (None, 14, 14, 64)       256       \n",
      " hNormalization)                                                 \n",
      "                                                                 \n",
      " max_pooling2d_3 (MaxPooling  (None, 7, 7, 64)         0         \n",
      " 2D)                                                             \n",
      "                                                                 \n",
      " flatten_1 (Flatten)         (None, 3136)              0         \n",
      "                                                                 \n",
      " dropout_1 (Dropout)         (None, 3136)              0         \n",
      "                                                                 \n",
      " dense_2 (Dense)             (None, 128)               401536    \n",
      "                                                                 \n",
      " reshape (Reshape)           (None, 1, 1, 128)         0         \n",
      "                                                                 \n",
      " conv2d_transpose (Conv2DTra  (None, 4, 4, 64)         131136    \n",
      " nspose)                                                         \n",
      "                                                                 \n",
      " conv2d_transpose_1 (Conv2DT  (None, 9, 9, 32)         18464     \n",
      " ranspose)                                                       \n",
      "                                                                 \n",
      " conv2d_transpose_2 (Conv2DT  (None, 28, 28, 1)        289       \n",
      " ranspose)                                                       \n",
      "                                                                 \n",
      "=================================================================\n",
      "Total params: 570,625\n",
      "Trainable params: 570,433\n",
      "Non-trainable params: 192\n",
      "_________________________________________________________________\n"
     ]
    }
   ],
   "source": [
    "refae = get_rafae(add_dense=True)\n",
    "refae.summary()"
   ],
   "metadata": {
    "collapsed": false,
    "pycharm": {
     "name": "#%%\n"
    }
   }
  },
  {
   "cell_type": "code",
   "execution_count": 6,
   "outputs": [
    {
     "data": {
      "image/png": "[encoded data removed]",
      "text/plain": "<IPython.core.display.Image object>"
     },
     "execution_count": 6,
     "metadata": {},
     "output_type": "execute_result"
    }
   ],
   "source": [
    "plot_model(refae, to_file=SAVED_MODEL_PICS_PATH.joinpath('refae_perfectAE_dense_plot.png'), show_layer_activations=True,\n",
    "           show_layer_names=False, rankdir=\"LR\")"
   ],
   "metadata": {
    "collapsed": false,
    "pycharm": {
     "name": "#%%\n"
    }
   }
  },
  {
   "cell_type": "markdown",
   "source": [
    "## Conv"
   ],
   "metadata": {
    "collapsed": false,
    "pycharm": {
     "name": "#%% md\n"
    }
   }
  },
  {
   "cell_type": "code",
   "execution_count": 7,
   "outputs": [
    {
     "name": "stdout",
     "output_type": "stream",
     "text": [
      "Model: \"model_1\"\n",
      "_________________________________________________________________\n",
      " Layer (type)                Output Shape              Param #   \n",
      "=================================================================\n",
      " conv2d_4_input (InputLayer)  [(None, 28, 28, 1)]      0         \n",
      "                                                                 \n",
      " conv2d_4 (Conv2D)           (None, 28, 28, 32)        320       \n",
      "                                                                 \n",
      " batch_normalization_4 (Batc  (None, 28, 28, 32)       128       \n",
      " hNormalization)                                                 \n",
      "                                                                 \n",
      " max_pooling2d_4 (MaxPooling  (None, 14, 14, 32)       0         \n",
      " 2D)                                                             \n",
      "                                                                 \n",
      " conv2d_5 (Conv2D)           (None, 14, 14, 64)        18496     \n",
      "                                                                 \n",
      " batch_normalization_5 (Batc  (None, 14, 14, 64)       256       \n",
      " hNormalization)                                                 \n",
      "                                                                 \n",
      " max_pooling2d_5 (MaxPooling  (None, 7, 7, 64)         0         \n",
      " 2D)                                                             \n",
      "                                                                 \n",
      " conv2d_transpose_3 (Conv2DT  (None, 14, 14, 64)       65600     \n",
      " ranspose)                                                       \n",
      "                                                                 \n",
      " conv2d_transpose_4 (Conv2DT  (None, 28, 28, 1)        1025      \n",
      " ranspose)                                                       \n",
      "                                                                 \n",
      "=================================================================\n",
      "Total params: 85,825\n",
      "Trainable params: 85,633\n",
      "Non-trainable params: 192\n",
      "_________________________________________________________________\n"
     ]
    }
   ],
   "source": [
    "refae = get_rafae(add_dense=False)\n",
    "refae.summary()"
   ],
   "metadata": {
    "collapsed": false,
    "pycharm": {
     "name": "#%%\n"
    }
   }
  },
  {
   "cell_type": "code",
   "execution_count": 8,
   "outputs": [
    {
     "data": {
      "image/png": "[encoded data removed]",
      "text/plain": "<IPython.core.display.Image object>"
     },
     "execution_count": 8,
     "metadata": {},
     "output_type": "execute_result"
    }
   ],
   "source": [
    "plot_model(refae, to_file=SAVED_MODEL_PICS_PATH.joinpath('refae_perfectAE_conv_plot.png'), show_layer_activations=True,\n",
    "           show_layer_names=False, rankdir=\"LR\")"
   ],
   "metadata": {
    "collapsed": false,
    "pycharm": {
     "name": "#%%\n"
    }
   }
  },
  {
   "cell_type": "markdown",
   "source": [
    "# ClaDec"
   ],
   "metadata": {
    "collapsed": false,
    "pycharm": {
     "name": "#%% md\n"
    }
   }
  },
  {
   "cell_type": "markdown",
   "source": [
    "## Dense"
   ],
   "metadata": {
    "collapsed": false,
    "pycharm": {
     "name": "#%% md\n"
    }
   }
  },
  {
   "cell_type": "code",
   "execution_count": 9,
   "outputs": [
    {
     "name": "stdout",
     "output_type": "stream",
     "text": [
      "Model: \"model_2\"\n",
      "__________________________________________________________________________________________________\n",
      " Layer (type)                   Output Shape         Param #     Connected to                     \n",
      "==================================================================================================\n",
      " input_1 (InputLayer)           [(None, 128)]        0           []                               \n",
      "                                                                                                  \n",
      " reshape_1 (Reshape)            (None, 1, 1, 128)    0           ['input_1[0][0]']                \n",
      "                                                                                                  \n",
      " conv2d_transpose_5 (Conv2DTran  (None, 4, 4, 64)    131136      ['reshape_1[0][0]']              \n",
      " spose)                                                                                           \n",
      "                                                                                                  \n",
      " conv2d_transpose_6 (Conv2DTran  (None, 9, 9, 32)    18464       ['conv2d_transpose_5[0][0]']     \n",
      " spose)                                                                                           \n",
      "                                                                                                  \n",
      " input_3 (InputLayer)           [(None, 10)]         0           []                               \n",
      "                                                                                                  \n",
      " input_2 (InputLayer)           [(None, 28, 28)]     0           []                               \n",
      "                                                                                                  \n",
      " conv2d_transpose_7 (Conv2DTran  (None, 28, 28, 1)   289         ['conv2d_transpose_6[0][0]']     \n",
      " spose)                                                                                           \n",
      "                                                                                                  \n",
      " tf.compat.v1.squeeze (TFOpLamb  (None, 28, 28)      0           ['conv2d_transpose_7[0][0]']     \n",
      " da)                                                                                              \n",
      "                                                                                                  \n",
      " tf.convert_to_tensor (TFOpLamb  (None, 28, 28)      0           ['input_2[0][0]']                \n",
      " da)                                                                                              \n",
      "                                                                                                  \n",
      " tf.cast (TFOpLambda)           (None, 28, 28)       0           ['tf.compat.v1.squeeze[0][0]']   \n",
      "                                                                                                  \n",
      " sequential (Sequential)        (None, 10)           422026      ['conv2d_transpose_7[0][0]']     \n",
      "                                                                                                  \n",
      " tf.math.squared_difference (TF  (None, 28, 28)      0           ['tf.convert_to_tensor[0][0]',   \n",
      " OpLambda)                                                        'tf.cast[0][0]']                \n",
      "                                                                                                  \n",
      " tf.cast_2 (TFOpLambda)         (None, 10)           0           ['sequential[0][0]']             \n",
      "                                                                                                  \n",
      " tf.convert_to_tensor_1 (TFOpLa  (None, 10)          0           ['input_3[0][0]']                \n",
      " mbda)                                                                                            \n",
      "                                                                                                  \n",
      " tf.math.reduce_mean (TFOpLambd  (None, 28)          0           ['tf.math.squared_difference[0][0\n",
      " a)                                                              ]']                              \n",
      "                                                                                                  \n",
      " tf.keras.backend.categorical_c  (None,)             0           ['tf.cast_2[0][0]',              \n",
      " rossentropy (TFOpLambda)                                         'tf.convert_to_tensor_1[0][0]'] \n",
      "                                                                                                  \n",
      " tf.math.multiply (TFOpLambda)  (None, 28)           0           ['tf.math.reduce_mean[0][0]']    \n",
      "                                                                                                  \n",
      " tf.math.multiply_2 (TFOpLambda  (None,)             0           ['tf.keras.backend.categorical_cr\n",
      " )                                                               ossentropy[0][0]']               \n",
      "                                                                                                  \n",
      " tf.math.reduce_sum (TFOpLambda  ()                  0           ['tf.math.multiply[0][0]']       \n",
      " )                                                                                                \n",
      "                                                                                                  \n",
      " tf.compat.v1.size (TFOpLambda)  ()                  0           ['tf.math.multiply[0][0]']       \n",
      "                                                                                                  \n",
      " tf.math.reduce_sum_2 (TFOpLamb  ()                  0           ['tf.math.multiply_2[0][0]']     \n",
      " da)                                                                                              \n",
      "                                                                                                  \n",
      " tf.compat.v1.size_1 (TFOpLambd  ()                  0           ['tf.math.multiply_2[0][0]']     \n",
      " a)                                                                                               \n",
      "                                                                                                  \n",
      " tf.math.reduce_sum_1 (TFOpLamb  ()                  0           ['tf.math.reduce_sum[0][0]']     \n",
      " da)                                                                                              \n",
      "                                                                                                  \n",
      " tf.cast_1 (TFOpLambda)         ()                   0           ['tf.compat.v1.size[0][0]']      \n",
      "                                                                                                  \n",
      " tf.math.reduce_sum_3 (TFOpLamb  ()                  0           ['tf.math.reduce_sum_2[0][0]']   \n",
      " da)                                                                                              \n",
      "                                                                                                  \n",
      " tf.cast_3 (TFOpLambda)         ()                   0           ['tf.compat.v1.size_1[0][0]']    \n",
      "                                                                                                  \n",
      " tf.math.divide_no_nan (TFOpLam  ()                  0           ['tf.math.reduce_sum_1[0][0]',   \n",
      " bda)                                                             'tf.cast_1[0][0]']              \n",
      "                                                                                                  \n",
      " tf.math.divide_no_nan_1 (TFOpL  ()                  0           ['tf.math.reduce_sum_3[0][0]',   \n",
      " ambda)                                                           'tf.cast_3[0][0]']              \n",
      "                                                                                                  \n",
      " tf.math.multiply_1 (TFOpLambda  ()                  0           ['tf.math.divide_no_nan[0][0]']  \n",
      " )                                                                                                \n",
      "                                                                                                  \n",
      " tf.math.multiply_3 (TFOpLambda  ()                  0           ['tf.math.divide_no_nan_1[0][0]']\n",
      " )                                                                                                \n",
      "                                                                                                  \n",
      " tf.__operators__.add (TFOpLamb  ()                  0           ['tf.math.multiply_1[0][0]',     \n",
      " da)                                                              'tf.math.multiply_3[0][0]']     \n",
      "                                                                                                  \n",
      " add_loss (AddLoss)             ()                   0           ['tf.__operators__.add[0][0]']   \n",
      "                                                                                                  \n",
      "==================================================================================================\n",
      "Total params: 571,915\n",
      "Trainable params: 571,723\n",
      "Non-trainable params: 192\n",
      "__________________________________________________________________________________________________\n"
     ]
    }
   ],
   "source": [
    "claDec = get_cladec(classifier, alpha=0.0, isDense=True)\n",
    "claDec.summary()  # note that the classifier is used in loss but not part of training"
   ],
   "metadata": {
    "collapsed": false,
    "pycharm": {
     "name": "#%%\n"
    }
   }
  },
  {
   "cell_type": "code",
   "execution_count": 10,
   "outputs": [],
   "source": [
    "# get actual decoder\n",
    "claDec = Model(claDec.input[0], claDec.output)"
   ],
   "metadata": {
    "collapsed": false,
    "pycharm": {
     "name": "#%%\n"
    }
   }
  },
  {
   "cell_type": "code",
   "execution_count": 11,
   "outputs": [
    {
     "data": {
      "image/png": "[encoded data removed]",
      "text/plain": "<IPython.core.display.Image object>"
     },
     "execution_count": 11,
     "metadata": {},
     "output_type": "execute_result"
    }
   ],
   "source": [
    "plot_model(claDec, to_file=SAVED_MODEL_PICS_PATH.joinpath('cladec_perfectAE_dense_plot.png'),\n",
    "           show_layer_activations=True,\n",
    "           show_layer_names=False, rankdir=\"LR\")"
   ],
   "metadata": {
    "collapsed": false,
    "pycharm": {
     "name": "#%%\n"
    }
   }
  },
  {
   "cell_type": "markdown",
   "source": [
    "## Conv"
   ],
   "metadata": {
    "collapsed": false,
    "pycharm": {
     "name": "#%% md\n"
    }
   }
  },
  {
   "cell_type": "code",
   "execution_count": 12,
   "outputs": [
    {
     "name": "stdout",
     "output_type": "stream",
     "text": [
      "Model: \"model_4\"\n",
      "__________________________________________________________________________________________________\n",
      " Layer (type)                   Output Shape         Param #     Connected to                     \n",
      "==================================================================================================\n",
      " input_4 (InputLayer)           [(None, 7, 7, 64)]   0           []                               \n",
      "                                                                                                  \n",
      " conv2d_transpose_8 (Conv2DTran  (None, 14, 14, 64)  65600       ['input_4[0][0]']                \n",
      " spose)                                                                                           \n",
      "                                                                                                  \n",
      " input_6 (InputLayer)           [(None, 10)]         0           []                               \n",
      "                                                                                                  \n",
      " input_5 (InputLayer)           [(None, 28, 28)]     0           []                               \n",
      "                                                                                                  \n",
      " conv2d_transpose_9 (Conv2DTran  (None, 28, 28, 1)   1025        ['conv2d_transpose_8[0][0]']     \n",
      " spose)                                                                                           \n",
      "                                                                                                  \n",
      " tf.compat.v1.squeeze_1 (TFOpLa  (None, 28, 28)      0           ['conv2d_transpose_9[0][0]']     \n",
      " mbda)                                                                                            \n",
      "                                                                                                  \n",
      " tf.convert_to_tensor_4 (TFOpLa  (None, 28, 28)      0           ['input_5[0][0]']                \n",
      " mbda)                                                                                            \n",
      "                                                                                                  \n",
      " tf.cast_4 (TFOpLambda)         (None, 28, 28)       0           ['tf.compat.v1.squeeze_1[0][0]'] \n",
      "                                                                                                  \n",
      " sequential (Sequential)        (None, 10)           422026      ['conv2d_transpose_9[0][0]']     \n",
      "                                                                                                  \n",
      " tf.math.squared_difference_1 (  (None, 28, 28)      0           ['tf.convert_to_tensor_4[0][0]', \n",
      " TFOpLambda)                                                      'tf.cast_4[0][0]']              \n",
      "                                                                                                  \n",
      " tf.cast_6 (TFOpLambda)         (None, 10)           0           ['sequential[1][0]']             \n",
      "                                                                                                  \n",
      " tf.convert_to_tensor_5 (TFOpLa  (None, 10)          0           ['input_6[0][0]']                \n",
      " mbda)                                                                                            \n",
      "                                                                                                  \n",
      " tf.math.reduce_mean_1 (TFOpLam  (None, 28)          0           ['tf.math.squared_difference_1[0]\n",
      " bda)                                                            [0]']                            \n",
      "                                                                                                  \n",
      " tf.keras.backend.categorical_c  (None,)             0           ['tf.cast_6[0][0]',              \n",
      " rossentropy_1 (TFOpLambda)                                       'tf.convert_to_tensor_5[0][0]'] \n",
      "                                                                                                  \n",
      " tf.math.multiply_4 (TFOpLambda  (None, 28)          0           ['tf.math.reduce_mean_1[0][0]']  \n",
      " )                                                                                                \n",
      "                                                                                                  \n",
      " tf.math.multiply_6 (TFOpLambda  (None,)             0           ['tf.keras.backend.categorical_cr\n",
      " )                                                               ossentropy_1[0][0]']             \n",
      "                                                                                                  \n",
      " tf.math.reduce_sum_4 (TFOpLamb  ()                  0           ['tf.math.multiply_4[0][0]']     \n",
      " da)                                                                                              \n",
      "                                                                                                  \n",
      " tf.compat.v1.size_2 (TFOpLambd  ()                  0           ['tf.math.multiply_4[0][0]']     \n",
      " a)                                                                                               \n",
      "                                                                                                  \n",
      " tf.math.reduce_sum_6 (TFOpLamb  ()                  0           ['tf.math.multiply_6[0][0]']     \n",
      " da)                                                                                              \n",
      "                                                                                                  \n",
      " tf.compat.v1.size_3 (TFOpLambd  ()                  0           ['tf.math.multiply_6[0][0]']     \n",
      " a)                                                                                               \n",
      "                                                                                                  \n",
      " tf.math.reduce_sum_5 (TFOpLamb  ()                  0           ['tf.math.reduce_sum_4[0][0]']   \n",
      " da)                                                                                              \n",
      "                                                                                                  \n",
      " tf.cast_5 (TFOpLambda)         ()                   0           ['tf.compat.v1.size_2[0][0]']    \n",
      "                                                                                                  \n",
      " tf.math.reduce_sum_7 (TFOpLamb  ()                  0           ['tf.math.reduce_sum_6[0][0]']   \n",
      " da)                                                                                              \n",
      "                                                                                                  \n",
      " tf.cast_7 (TFOpLambda)         ()                   0           ['tf.compat.v1.size_3[0][0]']    \n",
      "                                                                                                  \n",
      " tf.math.divide_no_nan_2 (TFOpL  ()                  0           ['tf.math.reduce_sum_5[0][0]',   \n",
      " ambda)                                                           'tf.cast_5[0][0]']              \n",
      "                                                                                                  \n",
      " tf.math.divide_no_nan_3 (TFOpL  ()                  0           ['tf.math.reduce_sum_7[0][0]',   \n",
      " ambda)                                                           'tf.cast_7[0][0]']              \n",
      "                                                                                                  \n",
      " tf.math.multiply_5 (TFOpLambda  ()                  0           ['tf.math.divide_no_nan_2[0][0]']\n",
      " )                                                                                                \n",
      "                                                                                                  \n",
      " tf.math.multiply_7 (TFOpLambda  ()                  0           ['tf.math.divide_no_nan_3[0][0]']\n",
      " )                                                                                                \n",
      "                                                                                                  \n",
      " tf.__operators__.add_1 (TFOpLa  ()                  0           ['tf.math.multiply_5[0][0]',     \n",
      " mbda)                                                            'tf.math.multiply_7[0][0]']     \n",
      "                                                                                                  \n",
      " add_loss_1 (AddLoss)           ()                   0           ['tf.__operators__.add_1[0][0]'] \n",
      "                                                                                                  \n",
      "==================================================================================================\n",
      "Total params: 488,651\n",
      "Trainable params: 488,459\n",
      "Non-trainable params: 192\n",
      "__________________________________________________________________________________________________\n"
     ]
    }
   ],
   "source": [
    "claDec = get_cladec(classifier, alpha=0.0, isDense=False)\n",
    "claDec.summary()  # note that the classifier is used in loss but not part of training"
   ],
   "metadata": {
    "collapsed": false,
    "pycharm": {
     "name": "#%%\n"
    }
   }
  },
  {
   "cell_type": "code",
   "execution_count": 13,
   "outputs": [],
   "source": [
    "# get actual decoder\n",
    "claDec = Model(claDec.input[0], claDec.output)"
   ],
   "metadata": {
    "collapsed": false,
    "pycharm": {
     "name": "#%%\n"
    }
   }
  },
  {
   "cell_type": "code",
   "execution_count": 14,
   "outputs": [
    {
     "data": {
      "image/png": "[encoded data removed]",
      "text/plain": "<IPython.core.display.Image object>"
     },
     "execution_count": 14,
     "metadata": {},
     "output_type": "execute_result"
    }
   ],
   "source": [
    "plot_model(claDec, to_file=SAVED_MODEL_PICS_PATH.joinpath('cladec_perfectAE_conv_plot.png'),\n",
    "           show_layer_activations=True,\n",
    "           show_layer_names=False, rankdir=\"LR\")"
   ],
   "metadata": {
    "collapsed": false,
    "pycharm": {
     "name": "#%%\n"
    }
   }
  }
 ],
 "metadata": {
  "kernelspec": {
   "name": "cladec-mnist",
   "language": "python",
   "display_name": "cladec-mnist"
  },
  "language_info": {
   "codemirror_mode": {
    "name": "ipython",
    "version": 2
   },
   "file_extension": ".py",
   "mimetype": "text/x-python",
   "name": "python",
   "nbconvert_exporter": "python",
   "pygments_lexer": "ipython2",
   "version": "2.7.6"
  }
 },
 "nbformat": 4,
 "nbformat_minor": 0
}