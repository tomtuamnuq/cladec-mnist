{
 "cells": [
  {
   "cell_type": "code",
   "execution_count": 1,
   "id": "26271def-641f-48f5-87b2-88c53cf1e4a4",
   "metadata": {
    "pycharm": {
     "name": "#%%\n"
    }
   },
   "outputs": [],
   "source": [
    "import os, pathlib\n",
    "\n",
    "file_path = os.path.dirname(os.path.realpath(\"__file__\"))\n",
    "home_dir = pathlib.Path(file_path).parent.parent\n",
    "os.chdir(home_dir)"
   ]
  },
  {
   "cell_type": "code",
   "execution_count": 2,
   "id": "2f995e98-7021-4614-99c1-217d0752a3ae",
   "metadata": {
    "pycharm": {
     "name": "#%%\n"
    }
   },
   "outputs": [],
   "source": [
    "import tensorflow as tf\n",
    "from tensorflow import keras\n",
    "import numpy as np\n",
    "from src.utils import SAVED_PICS_PATH, keras_dataset_image_preprocessing, DENSE_LAYER_NAME, CONV_LAYER_NAME, ALPHAS\n",
    "from src.utils import SAVED_CLASSIFIER_PATH_MNIST, SAVED_CLADEC_PATH_MNIST, SAVED_REFAE_PATH_MNIST\n",
    "from src.cladec import ClaDec, RefAE\n",
    "\n",
    "(train_images, train_labels_c), (test_images, test_labels_c) = keras_dataset_image_preprocessing(keras.datasets.mnist)\n",
    "SAVED_EVAL_PICS_PATH = SAVED_PICS_PATH.joinpath('fashion_mnist')\n",
    "\n",
    "tf.random.set_seed(1234)\n",
    "np.random.seed(1234)"
   ]
  },
  {
   "cell_type": "code",
   "execution_count": 3,
   "outputs": [
    {
     "name": "stderr",
     "output_type": "stream",
     "text": [
      "2022-07-26 21:25:35.413759: I tensorflow/stream_executor/cuda/cuda_gpu_executor.cc:975] successful NUMA node read from SysFS had negative value (-1), but there must be at least one NUMA node, so returning NUMA node zero\n",
      "2022-07-26 21:25:35.445823: I tensorflow/stream_executor/cuda/cuda_gpu_executor.cc:975] successful NUMA node read from SysFS had negative value (-1), but there must be at least one NUMA node, so returning NUMA node zero\n",
      "2022-07-26 21:25:35.446133: I tensorflow/stream_executor/cuda/cuda_gpu_executor.cc:975] successful NUMA node read from SysFS had negative value (-1), but there must be at least one NUMA node, so returning NUMA node zero\n",
      "2022-07-26 21:25:35.447117: I tensorflow/core/platform/cpu_feature_guard.cc:193] This TensorFlow binary is optimized with oneAPI Deep Neural Network Library (oneDNN) to use the following CPU instructions in performance-critical operations:  AVX2 FMA\n",
      "To enable them in other operations, rebuild TensorFlow with the appropriate compiler flags.\n",
      "2022-07-26 21:25:35.468743: I tensorflow/stream_executor/cuda/cuda_gpu_executor.cc:975] successful NUMA node read from SysFS had negative value (-1), but there must be at least one NUMA node, so returning NUMA node zero\n",
      "2022-07-26 21:25:35.469011: I tensorflow/stream_executor/cuda/cuda_gpu_executor.cc:975] successful NUMA node read from SysFS had negative value (-1), but there must be at least one NUMA node, so returning NUMA node zero\n",
      "2022-07-26 21:25:35.469149: I tensorflow/stream_executor/cuda/cuda_gpu_executor.cc:975] successful NUMA node read from SysFS had negative value (-1), but there must be at least one NUMA node, so returning NUMA node zero\n",
      "2022-07-26 21:25:35.952787: I tensorflow/stream_executor/cuda/cuda_gpu_executor.cc:975] successful NUMA node read from SysFS had negative value (-1), but there must be at least one NUMA node, so returning NUMA node zero\n",
      "2022-07-26 21:25:35.953011: I tensorflow/stream_executor/cuda/cuda_gpu_executor.cc:975] successful NUMA node read from SysFS had negative value (-1), but there must be at least one NUMA node, so returning NUMA node zero\n",
      "2022-07-26 21:25:35.953158: I tensorflow/stream_executor/cuda/cuda_gpu_executor.cc:975] successful NUMA node read from SysFS had negative value (-1), but there must be at least one NUMA node, so returning NUMA node zero\n",
      "2022-07-26 21:25:35.953292: I tensorflow/core/common_runtime/gpu/gpu_device.cc:1532] Created device /job:localhost/replica:0/task:0/device:GPU:0 with 3388 MB memory:  -> device: 0, name: NVIDIA GeForce GTX 950M, pci bus id: 0000:01:00.0, compute capability: 5.0\n",
      "2022-07-26 21:25:37.357447: I tensorflow/stream_executor/cuda/cuda_dnn.cc:384] Loaded cuDNN version 8401\n"
     ]
    },
    {
     "name": "stdout",
     "output_type": "stream",
     "text": [
      "313/313 [==============================] - 2s 4ms/step - loss: 0.0375 - categorical_accuracy: 0.9903\n"
     ]
    },
    {
     "data": {
      "text/plain": "[0.037522297352552414, 0.9902999997138977]"
     },
     "execution_count": 3,
     "metadata": {},
     "output_type": "execute_result"
    }
   ],
   "source": [
    "classifier = keras.models.load_model(SAVED_CLASSIFIER_PATH_MNIST)\n",
    "classifier.evaluate(test_images, test_labels_c)"
   ],
   "metadata": {
    "collapsed": false,
    "pycharm": {
     "name": "#%%\n"
    }
   }
  },
  {
   "cell_type": "code",
   "execution_count": 4,
   "id": "e8386880-1758-4f7d-ac68-66d185651d7f",
   "metadata": {
    "pycharm": {
     "name": "#%%\n"
    }
   },
   "outputs": [
    {
     "name": "stdout",
     "output_type": "stream",
     "text": [
      "Evaluating  /home/tom/Uni_Dev/cladec-mnist/saved-models/mnist/cladec/ 0/my_dense\n",
      "313/313 [==============================] - 2s 6ms/step - loss: 20.7040 - reconstruction_loss: 20.5223 - classification_loss: 0.1617\n",
      "Evaluating  /home/tom/Uni_Dev/cladec-mnist/saved-models/mnist/cladec/ 1/my_dense\n",
      "313/313 [==============================] - 2s 6ms/step - loss: 20.5799 - reconstruction_loss: 20.5715 - classification_loss: 0.1537\n",
      "Evaluating  /home/tom/Uni_Dev/cladec-mnist/saved-models/mnist/cladec/ 5/my_dense\n",
      "313/313 [==============================] - 2s 6ms/step - loss: 19.7239 - reconstruction_loss: 20.6083 - classification_loss: 0.1544\n",
      "Evaluating  /home/tom/Uni_Dev/cladec-mnist/saved-models/mnist/cladec/10/my_dense\n",
      "313/313 [==============================] - 2s 6ms/step - loss: 18.6326 - reconstruction_loss: 20.5263 - classification_loss: 0.1495\n",
      "Evaluating  /home/tom/Uni_Dev/cladec-mnist/saved-models/mnist/cladec/25/my_dense\n",
      "313/313 [==============================] - 2s 6ms/step - loss: 15.6804 - reconstruction_loss: 20.6121 - classification_loss: 0.1347\n",
      "Evaluating  /home/tom/Uni_Dev/cladec-mnist/saved-models/mnist/cladec/50/my_dense\n",
      "313/313 [==============================] - 2s 6ms/step - loss: 10.4228 - reconstruction_loss: 20.5152 - classification_loss: 0.1172\n",
      "Evaluating  /home/tom/Uni_Dev/cladec-mnist/saved-models/mnist/cladec/99/my_dense\n",
      "313/313 [==============================] - 2s 6ms/step - loss: 0.3108 - reconstruction_loss: 24.0825 - classification_loss: 0.0678\n"
     ]
    }
   ],
   "source": [
    "decoder_dense = ClaDec.create_128_dense_decoder()\n",
    "for alpha in ALPHAS:\n",
    "    cladec_path = SAVED_CLADEC_PATH_MNIST.joinpath(f'{alpha:2}')\n",
    "    cladec_dense = ClaDec.create_from_weights(cladec_path.joinpath(DENSE_LAYER_NAME).joinpath(DENSE_LAYER_NAME),\n",
    "                                              classifier,\n",
    "                                              DENSE_LAYER_NAME,\n",
    "                                              alpha / 100,\n",
    "                                              decoder_dense)\n",
    "    print(\"Evaluating \", cladec_path.joinpath(DENSE_LAYER_NAME))\n",
    "    cladec_dense.evaluate(test_images, test_labels_c)"
   ]
  },
  {
   "cell_type": "code",
   "execution_count": 5,
   "outputs": [
    {
     "name": "stdout",
     "output_type": "stream",
     "text": [
      "Evaluating  /home/tom/Uni_Dev/cladec-mnist/saved-models/mnist/cladec/ 0/my_conv\n",
      "313/313 [==============================] - 2s 6ms/step - loss: 1.4723 - reconstruction_loss: 1.4671 - classification_loss: 0.0524\n",
      "Evaluating  /home/tom/Uni_Dev/cladec-mnist/saved-models/mnist/cladec/ 1/my_conv\n",
      "313/313 [==============================] - 2s 6ms/step - loss: 1.4776 - reconstruction_loss: 1.4881 - classification_loss: 0.0533\n",
      "Evaluating  /home/tom/Uni_Dev/cladec-mnist/saved-models/mnist/cladec/ 5/my_conv\n",
      "313/313 [==============================] - 2s 6ms/step - loss: 1.4090 - reconstruction_loss: 1.4774 - classification_loss: 0.0519\n",
      "Evaluating  /home/tom/Uni_Dev/cladec-mnist/saved-models/mnist/cladec/10/my_conv\n",
      "313/313 [==============================] - 2s 6ms/step - loss: 1.3146 - reconstruction_loss: 1.4517 - classification_loss: 0.0549\n",
      "Evaluating  /home/tom/Uni_Dev/cladec-mnist/saved-models/mnist/cladec/25/my_conv\n",
      "313/313 [==============================] - 2s 6ms/step - loss: 1.1127 - reconstruction_loss: 1.4618 - classification_loss: 0.0524\n",
      "Evaluating  /home/tom/Uni_Dev/cladec-mnist/saved-models/mnist/cladec/50/my_conv\n",
      "313/313 [==============================] - 2s 6ms/step - loss: 0.7584 - reconstruction_loss: 1.4597 - classification_loss: 0.0530\n",
      "Evaluating  /home/tom/Uni_Dev/cladec-mnist/saved-models/mnist/cladec/99/my_conv\n",
      "313/313 [==============================] - 2s 6ms/step - loss: 0.0729 - reconstruction_loss: 2.7845 - classification_loss: 0.0455\n"
     ]
    }
   ],
   "source": [
    "decoder_conv = ClaDec.create_64_conv_decoder()\n",
    "for alpha in ALPHAS:\n",
    "    cladec_path = SAVED_CLADEC_PATH_MNIST.joinpath(f'{alpha:2}')\n",
    "    cladec_conv = ClaDec.create_from_weights(cladec_path.joinpath(CONV_LAYER_NAME).joinpath(CONV_LAYER_NAME),\n",
    "                                             classifier,\n",
    "                                             CONV_LAYER_NAME,\n",
    "                                             alpha / 100,\n",
    "                                             decoder_conv)\n",
    "    print(\"Evaluating \", cladec_path.joinpath(CONV_LAYER_NAME))\n",
    "    cladec_conv.evaluate(test_images, test_labels_c)"
   ],
   "metadata": {
    "collapsed": false,
    "pycharm": {
     "name": "#%%\n"
    }
   }
  },
  {
   "cell_type": "code",
   "execution_count": 6,
   "outputs": [
    {
     "name": "stdout",
     "output_type": "stream",
     "text": [
      "Evaluating  /home/tom/Uni_Dev/cladec-mnist/saved-models/mnist/refae/my_dense\n",
      "313/313 [==============================] - 1s 3ms/step - reconstruction_loss: 3.1312\n",
      "Evaluating  /home/tom/Uni_Dev/cladec-mnist/saved-models/mnist/refae/my_conv\n",
      "313/313 [==============================] - 1s 3ms/step - reconstruction_loss: 0.3595\n"
     ]
    },
    {
     "data": {
      "text/plain": "0.3594546616077423"
     },
     "execution_count": 6,
     "metadata": {},
     "output_type": "execute_result"
    }
   ],
   "source": [
    "# load RefAE model\n",
    "refae_dense = RefAE.create_from_weights(SAVED_REFAE_PATH_MNIST.joinpath(DENSE_LAYER_NAME).joinpath(DENSE_LAYER_NAME),\n",
    "                                        cladec_dense)\n",
    "refae_conv = RefAE.create_from_weights(SAVED_REFAE_PATH_MNIST.joinpath(CONV_LAYER_NAME).joinpath(CONV_LAYER_NAME),\n",
    "                                       cladec_conv)\n",
    "# get reference reconstructions\n",
    "print(\"Evaluating \", SAVED_REFAE_PATH_MNIST.joinpath(DENSE_LAYER_NAME))\n",
    "refae_dense.evaluate(test_images)\n",
    "print(\"Evaluating \", SAVED_REFAE_PATH_MNIST.joinpath(CONV_LAYER_NAME))\n",
    "refae_conv.evaluate(test_images)"
   ],
   "metadata": {
    "collapsed": false,
    "pycharm": {
     "name": "#%%\n"
    }
   }
  },
  {
   "cell_type": "markdown",
   "source": [
    "# Train classifier on reconstructions"
   ],
   "metadata": {
    "collapsed": false,
    "pycharm": {
     "name": "#%% md\n"
    }
   }
  },
  {
   "cell_type": "code",
   "execution_count": 7,
   "outputs": [
    {
     "name": "stdout",
     "output_type": "stream",
     "text": [
      "1875/1875 [==============================] - 6s 3ms/step\n",
      "1875/1875 [==============================] - 6s 3ms/step\n",
      "313/313 [==============================] - 1s 3ms/step\n",
      "313/313 [==============================] - 1s 3ms/step\n"
     ]
    }
   ],
   "source": [
    "from src.create_models import train_classifier\n",
    "\n",
    "train_reconstructions_refae_dense = refae_dense.predict(train_images)\n",
    "train_reconstructions_cladec_dense = cladec_dense.predict(train_images)\n",
    "\n",
    "test_reconstructions_refae_dense = refae_dense.predict(test_images)\n",
    "test_reconstructions_cladec_dense = cladec_dense.predict(test_images)"
   ],
   "metadata": {
    "collapsed": false,
    "pycharm": {
     "name": "#%%\n"
    }
   }
  },
  {
   "cell_type": "code",
   "execution_count": 8,
   "outputs": [
    {
     "name": "stdout",
     "output_type": "stream",
     "text": [
      "1875/1875 [==============================] - 13s 6ms/step - loss: 0.1757 - categorical_accuracy: 0.9463\n"
     ]
    }
   ],
   "source": [
    "classifier_refae_dense = train_classifier(train_reconstructions_refae_dense, train_labels_c, 1)"
   ],
   "metadata": {
    "collapsed": false,
    "pycharm": {
     "name": "#%%\n"
    }
   }
  },
  {
   "cell_type": "code",
   "execution_count": 9,
   "outputs": [
    {
     "name": "stdout",
     "output_type": "stream",
     "text": [
      "313/313 [==============================] - 1s 3ms/step - loss: 0.0681 - categorical_accuracy: 0.9787\n"
     ]
    },
    {
     "data": {
      "text/plain": "[0.06811708211898804, 0.9786999821662903]"
     },
     "execution_count": 9,
     "metadata": {},
     "output_type": "execute_result"
    }
   ],
   "source": [
    "classifier_refae_dense.evaluate(test_images, test_labels_c)"
   ],
   "metadata": {
    "collapsed": false,
    "pycharm": {
     "name": "#%%\n"
    }
   }
  },
  {
   "cell_type": "code",
   "execution_count": 10,
   "outputs": [
    {
     "name": "stdout",
     "output_type": "stream",
     "text": [
      "313/313 [==============================] - 1s 3ms/step - loss: 0.0826 - categorical_accuracy: 0.9742\n"
     ]
    },
    {
     "data": {
      "text/plain": "[0.08261319249868393, 0.9742000102996826]"
     },
     "execution_count": 10,
     "metadata": {},
     "output_type": "execute_result"
    }
   ],
   "source": [
    "classifier_refae_dense.evaluate(test_reconstructions_refae_dense, test_labels_c)"
   ],
   "metadata": {
    "collapsed": false,
    "pycharm": {
     "name": "#%%\n"
    }
   }
  },
  {
   "cell_type": "code",
   "execution_count": 11,
   "outputs": [
    {
     "name": "stdout",
     "output_type": "stream",
     "text": [
      "1875/1875 [==============================] - 12s 6ms/step - loss: 0.0763 - categorical_accuracy: 0.9784\n"
     ]
    }
   ],
   "source": [
    "classifier_cladec_99_dense = train_classifier(train_reconstructions_cladec_dense, train_labels_c, 1)"
   ],
   "metadata": {
    "collapsed": false,
    "pycharm": {
     "name": "#%%\n"
    }
   }
  },
  {
   "cell_type": "code",
   "execution_count": 12,
   "outputs": [
    {
     "name": "stdout",
     "output_type": "stream",
     "text": [
      "313/313 [==============================] - 1s 3ms/step - loss: 0.4821 - categorical_accuracy: 0.9126\n"
     ]
    },
    {
     "data": {
      "text/plain": "[0.4821401834487915, 0.9125999808311462]"
     },
     "execution_count": 12,
     "metadata": {},
     "output_type": "execute_result"
    }
   ],
   "source": [
    "classifier_cladec_99_dense.evaluate(test_images, test_labels_c)"
   ],
   "metadata": {
    "collapsed": false,
    "pycharm": {
     "name": "#%%\n"
    }
   }
  },
  {
   "cell_type": "code",
   "execution_count": 13,
   "outputs": [
    {
     "name": "stdout",
     "output_type": "stream",
     "text": [
      "313/313 [==============================] - 1s 4ms/step - loss: 0.0606 - categorical_accuracy: 0.9854\n"
     ]
    },
    {
     "data": {
      "text/plain": "[0.06057608500123024, 0.9854000210762024]"
     },
     "execution_count": 13,
     "metadata": {},
     "output_type": "execute_result"
    }
   ],
   "source": [
    "classifier_cladec_99_dense.evaluate(test_reconstructions_cladec_dense, test_labels_c)"
   ],
   "metadata": {
    "collapsed": false,
    "pycharm": {
     "name": "#%%\n"
    }
   }
  }
 ],
 "metadata": {
  "kernelspec": {
   "display_name": "cladec-mnist",
   "language": "python",
   "name": "cladec-mnist"
  },
  "language_info": {
   "codemirror_mode": {
    "name": "ipython",
    "version": 3
   },
   "file_extension": ".py",
   "mimetype": "text/x-python",
   "name": "python",
   "nbconvert_exporter": "python",
   "pygments_lexer": "ipython3",
   "version": "3.10.4"
  }
 },
 "nbformat": 4,
 "nbformat_minor": 5
}