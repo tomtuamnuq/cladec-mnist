{
 "cells": [
  {
   "cell_type": "code",
   "execution_count": 1,
   "id": "26271def-641f-48f5-87b2-88c53cf1e4a4",
   "metadata": {
    "pycharm": {
     "name": "#%%\n"
    }
   },
   "outputs": [],
   "source": [
    "import os, pathlib\n",
    "\n",
    "file_path = os.path.dirname(os.path.realpath(\"__file__\"))\n",
    "home_dir = pathlib.Path(file_path).parent.parent\n",
    "os.chdir(home_dir)"
   ]
  },
  {
   "cell_type": "code",
   "execution_count": 2,
   "id": "2f995e98-7021-4614-99c1-217d0752a3ae",
   "metadata": {
    "pycharm": {
     "name": "#%%\n"
    }
   },
   "outputs": [],
   "source": [
    "import tensorflow as tf\n",
    "from tensorflow import keras\n",
    "import numpy as np\n",
    "from src.utils import SAVED_PICS_PATH, keras_dataset_image_preprocessing, DENSE_LAYER_NAME, CONV_LAYER_NAME, ALPHAS\n",
    "from src.utils import SAVED_CLASSIFIER_PATH_MNIST, SAVED_CLADEC_PATH_MNIST, SAVED_REFAE_PATH_MNIST\n",
    "from src.cladec import ClaDec, RefAE\n",
    "\n",
    "_, (test_images, test_labels_c) = keras_dataset_image_preprocessing(keras.datasets.mnist)\n",
    "SAVED_EVAL_PICS_PATH = SAVED_PICS_PATH.joinpath('fashion_mnist')\n",
    "\n",
    "tf.random.set_seed(1234)\n",
    "np.random.seed(1234)"
   ]
  },
  {
   "cell_type": "code",
   "execution_count": 3,
   "outputs": [
    {
     "name": "stderr",
     "output_type": "stream",
     "text": [
      "2022-07-09 14:22:49.426358: I tensorflow/stream_executor/cuda/cuda_gpu_executor.cc:975] successful NUMA node read from SysFS had negative value (-1), but there must be at least one NUMA node, so returning NUMA node zero\n",
      "2022-07-09 14:22:49.462031: I tensorflow/stream_executor/cuda/cuda_gpu_executor.cc:975] successful NUMA node read from SysFS had negative value (-1), but there must be at least one NUMA node, so returning NUMA node zero\n",
      "2022-07-09 14:22:49.462383: I tensorflow/stream_executor/cuda/cuda_gpu_executor.cc:975] successful NUMA node read from SysFS had negative value (-1), but there must be at least one NUMA node, so returning NUMA node zero\n",
      "2022-07-09 14:22:49.462901: I tensorflow/core/platform/cpu_feature_guard.cc:193] This TensorFlow binary is optimized with oneAPI Deep Neural Network Library (oneDNN) to use the following CPU instructions in performance-critical operations:  AVX2 FMA\n",
      "To enable them in other operations, rebuild TensorFlow with the appropriate compiler flags.\n",
      "2022-07-09 14:22:49.463508: I tensorflow/stream_executor/cuda/cuda_gpu_executor.cc:975] successful NUMA node read from SysFS had negative value (-1), but there must be at least one NUMA node, so returning NUMA node zero\n",
      "2022-07-09 14:22:49.463913: I tensorflow/stream_executor/cuda/cuda_gpu_executor.cc:975] successful NUMA node read from SysFS had negative value (-1), but there must be at least one NUMA node, so returning NUMA node zero\n",
      "2022-07-09 14:22:49.464177: I tensorflow/stream_executor/cuda/cuda_gpu_executor.cc:975] successful NUMA node read from SysFS had negative value (-1), but there must be at least one NUMA node, so returning NUMA node zero\n",
      "2022-07-09 14:22:50.046209: I tensorflow/stream_executor/cuda/cuda_gpu_executor.cc:975] successful NUMA node read from SysFS had negative value (-1), but there must be at least one NUMA node, so returning NUMA node zero\n",
      "2022-07-09 14:22:50.046417: I tensorflow/stream_executor/cuda/cuda_gpu_executor.cc:975] successful NUMA node read from SysFS had negative value (-1), but there must be at least one NUMA node, so returning NUMA node zero\n",
      "2022-07-09 14:22:50.046565: I tensorflow/stream_executor/cuda/cuda_gpu_executor.cc:975] successful NUMA node read from SysFS had negative value (-1), but there must be at least one NUMA node, so returning NUMA node zero\n",
      "2022-07-09 14:22:50.046689: I tensorflow/core/common_runtime/gpu/gpu_device.cc:1532] Created device /job:localhost/replica:0/task:0/device:GPU:0 with 3361 MB memory:  -> device: 0, name: NVIDIA GeForce GTX 950M, pci bus id: 0000:01:00.0, compute capability: 5.0\n"
     ]
    }
   ],
   "source": [
    "classifier = keras.models.load_model(SAVED_CLASSIFIER_PATH_MNIST)"
   ],
   "metadata": {
    "collapsed": false,
    "pycharm": {
     "name": "#%%\n"
    }
   }
  },
  {
   "cell_type": "code",
   "execution_count": 4,
   "id": "e8386880-1758-4f7d-ac68-66d185651d7f",
   "metadata": {
    "pycharm": {
     "name": "#%%\n"
    }
   },
   "outputs": [
    {
     "name": "stdout",
     "output_type": "stream",
     "text": [
      "Evaluating  /home/tom/Uni_Dev/cladec-mnist/saved-models/mnist/cladec/ 0/my_dense\n"
     ]
    },
    {
     "name": "stderr",
     "output_type": "stream",
     "text": [
      "2022-07-09 14:22:51.960751: I tensorflow/stream_executor/cuda/cuda_dnn.cc:384] Loaded cuDNN version 8400\n"
     ]
    },
    {
     "name": "stdout",
     "output_type": "stream",
     "text": [
      "313/313 [==============================] - 3s 6ms/step - loss: 0.0217 - reconstruction_loss: 0.0214 - classification_loss: 0.2416\n",
      "Evaluating  /home/tom/Uni_Dev/cladec-mnist/saved-models/mnist/cladec/ 0/my_conv\n",
      "313/313 [==============================] - 2s 6ms/step - loss: 0.0018 - reconstruction_loss: 0.0018 - classification_loss: 0.0481\n",
      "Evaluating  /home/tom/Uni_Dev/cladec-mnist/saved-models/mnist/cladec/ 1/my_dense\n",
      "313/313 [==============================] - 2s 5ms/step - loss: 0.0223 - reconstruction_loss: 0.0217 - classification_loss: 0.0491\n",
      "Evaluating  /home/tom/Uni_Dev/cladec-mnist/saved-models/mnist/cladec/ 1/my_conv\n",
      "313/313 [==============================] - 2s 6ms/step - loss: 0.0023 - reconstruction_loss: 0.0019 - classification_loss: 0.0441\n",
      "Evaluating  /home/tom/Uni_Dev/cladec-mnist/saved-models/mnist/cladec/50/my_dense\n",
      "313/313 [==============================] - 2s 6ms/step - loss: 0.0613 - reconstruction_loss: 0.0789 - classification_loss: 0.0455\n",
      "Evaluating  /home/tom/Uni_Dev/cladec-mnist/saved-models/mnist/cladec/50/my_conv\n",
      "313/313 [==============================] - 2s 6ms/step - loss: 0.0560 - reconstruction_loss: 0.0364 - classification_loss: 0.0762\n",
      "Evaluating  /home/tom/Uni_Dev/cladec-mnist/saved-models/mnist/cladec/99/my_dense\n",
      "313/313 [==============================] - 2s 5ms/step - loss: 0.0641 - reconstruction_loss: 0.2345 - classification_loss: 0.0624\n",
      "Evaluating  /home/tom/Uni_Dev/cladec-mnist/saved-models/mnist/cladec/99/my_conv\n",
      "313/313 [==============================] - 2s 6ms/step - loss: 0.1109 - reconstruction_loss: 0.0759 - classification_loss: 0.1113\n"
     ]
    }
   ],
   "source": [
    "decoder_dense = ClaDec.create_128_dense_decoder()\n",
    "decoder_conv = ClaDec.create_64_conv_decoder()\n",
    "for alpha in ALPHAS:\n",
    "    cladec_path = SAVED_CLADEC_PATH_MNIST.joinpath(f'{alpha:2}')\n",
    "\n",
    "    cladec_dense = ClaDec.create_from_weights(cladec_path.joinpath(DENSE_LAYER_NAME).joinpath(DENSE_LAYER_NAME),\n",
    "                                              classifier, DENSE_LAYER_NAME, alpha / 100, decoder_dense)\n",
    "    print(\"Evaluating \", cladec_path.joinpath(DENSE_LAYER_NAME))\n",
    "    cladec_dense.evaluate(test_images, test_labels_c)\n",
    "    cladec_conv = ClaDec.create_from_weights(cladec_path.joinpath(CONV_LAYER_NAME).joinpath(CONV_LAYER_NAME),\n",
    "                                             classifier, CONV_LAYER_NAME, alpha / 100, decoder_conv)\n",
    "    print(\"Evaluating \", cladec_path.joinpath(CONV_LAYER_NAME))\n",
    "    cladec_conv.evaluate(test_images, test_labels_c)"
   ]
  },
  {
   "cell_type": "code",
   "execution_count": 5,
   "outputs": [
    {
     "name": "stdout",
     "output_type": "stream",
     "text": [
      "Evaluating  /home/tom/Uni_Dev/cladec-mnist/saved-models/mnist/refae/my_dense\n",
      "313/313 [==============================] - 1s 4ms/step - reconstruction_loss: 0.0032\n",
      "Evaluating  /home/tom/Uni_Dev/cladec-mnist/saved-models/mnist/refae/my_conv\n",
      "313/313 [==============================] - 2s 4ms/step - reconstruction_loss: 5.4720e-04\n"
     ]
    },
    {
     "data": {
      "text/plain": "0.0005471963668242097"
     },
     "execution_count": 5,
     "metadata": {},
     "output_type": "execute_result"
    }
   ],
   "source": [
    "# load RefAE model\n",
    "refae_dense = RefAE.create_from_weights(SAVED_REFAE_PATH_MNIST.joinpath(DENSE_LAYER_NAME).joinpath(DENSE_LAYER_NAME),\n",
    "                                        cladec_dense)\n",
    "refae_conv = RefAE.create_from_weights(SAVED_REFAE_PATH_MNIST.joinpath(CONV_LAYER_NAME).joinpath(CONV_LAYER_NAME),\n",
    "                                       cladec_conv)\n",
    "# get reference reconstructions\n",
    "print(\"Evaluating \", SAVED_REFAE_PATH_MNIST.joinpath(DENSE_LAYER_NAME))\n",
    "refae_dense.evaluate(test_images)\n",
    "print(\"Evaluating \", SAVED_REFAE_PATH_MNIST.joinpath(CONV_LAYER_NAME))\n",
    "refae_conv.evaluate(test_images)"
   ],
   "metadata": {
    "collapsed": false,
    "pycharm": {
     "name": "#%%\n"
    }
   }
  }
 ],
 "metadata": {
  "kernelspec": {
   "display_name": "cladec-mnist",
   "language": "python",
   "name": "cladec-mnist"
  },
  "language_info": {
   "codemirror_mode": {
    "name": "ipython",
    "version": 3
   },
   "file_extension": ".py",
   "mimetype": "text/x-python",
   "name": "python",
   "nbconvert_exporter": "python",
   "pygments_lexer": "ipython3",
   "version": "3.10.4"
  }
 },
 "nbformat": 4,
 "nbformat_minor": 5
}