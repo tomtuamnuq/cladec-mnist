{
 "cells": [
  {
   "cell_type": "code",
   "execution_count": 1,
   "id": "26271def-641f-48f5-87b2-88c53cf1e4a4",
   "metadata": {
    "pycharm": {
     "name": "#%%\n"
    }
   },
   "outputs": [],
   "source": [
    "import os, pathlib\n",
    "\n",
    "file_path = os.path.dirname(os.path.realpath(\"__file__\"))\n",
    "home_dir = pathlib.Path(file_path).parent.parent\n",
    "os.chdir(home_dir)"
   ]
  },
  {
   "cell_type": "code",
   "execution_count": 2,
   "id": "2f995e98-7021-4614-99c1-217d0752a3ae",
   "metadata": {
    "pycharm": {
     "name": "#%%\n"
    }
   },
   "outputs": [],
   "source": [
    "import tensorflow as tf\n",
    "from tensorflow import keras\n",
    "import numpy as np\n",
    "from src.common import load_layer_activations\n",
    "from src.mnist.data import get_mnist_train_test\n",
    "from src.mnist.perfectAE.file_names import SAVED_CLASSIFIER_PATH, SAVED_CLADEC_PATH, SAVED_REFAE_PATH\n",
    "\n",
    "tf.random.set_seed(1234)\n",
    "np.random.seed(1234)"
   ]
  },
  {
   "cell_type": "code",
   "execution_count": 3,
   "id": "fd0589ae-9ca8-4633-b0e7-0f9cad9a1c82",
   "metadata": {
    "pycharm": {
     "name": "#%%\n"
    }
   },
   "outputs": [],
   "source": [
    "(dense_train_acts, dense_test_acts), (conv_train_acts, conv_test_acts) = load_layer_activations(SAVED_CLASSIFIER_PATH)\n",
    "train_images, test_images = get_mnist_train_test()"
   ]
  },
  {
   "cell_type": "code",
   "execution_count": 4,
   "id": "52665bbd-db97-41a2-a76a-8e74f9c40d83",
   "metadata": {
    "pycharm": {
     "name": "#%%\n"
    }
   },
   "outputs": [
    {
     "name": "stderr",
     "output_type": "stream",
     "text": [
      "2022-06-11 10:13:05.553256: I tensorflow/stream_executor/cuda/cuda_gpu_executor.cc:975] successful NUMA node read from SysFS had negative value (-1), but there must be at least one NUMA node, so returning NUMA node zero\n",
      "2022-06-11 10:13:05.669043: I tensorflow/stream_executor/cuda/cuda_gpu_executor.cc:975] successful NUMA node read from SysFS had negative value (-1), but there must be at least one NUMA node, so returning NUMA node zero\n",
      "2022-06-11 10:13:05.669918: I tensorflow/stream_executor/cuda/cuda_gpu_executor.cc:975] successful NUMA node read from SysFS had negative value (-1), but there must be at least one NUMA node, so returning NUMA node zero\n",
      "2022-06-11 10:13:05.673162: I tensorflow/core/platform/cpu_feature_guard.cc:193] This TensorFlow binary is optimized with oneAPI Deep Neural Network Library (oneDNN) to use the following CPU instructions in performance-critical operations:  AVX2 FMA\n",
      "To enable them in other operations, rebuild TensorFlow with the appropriate compiler flags.\n",
      "2022-06-11 10:13:05.675471: I tensorflow/stream_executor/cuda/cuda_gpu_executor.cc:975] successful NUMA node read from SysFS had negative value (-1), but there must be at least one NUMA node, so returning NUMA node zero\n",
      "2022-06-11 10:13:05.676371: I tensorflow/stream_executor/cuda/cuda_gpu_executor.cc:975] successful NUMA node read from SysFS had negative value (-1), but there must be at least one NUMA node, so returning NUMA node zero\n",
      "2022-06-11 10:13:05.676996: I tensorflow/stream_executor/cuda/cuda_gpu_executor.cc:975] successful NUMA node read from SysFS had negative value (-1), but there must be at least one NUMA node, so returning NUMA node zero\n",
      "2022-06-11 10:13:07.087917: I tensorflow/stream_executor/cuda/cuda_gpu_executor.cc:975] successful NUMA node read from SysFS had negative value (-1), but there must be at least one NUMA node, so returning NUMA node zero\n",
      "2022-06-11 10:13:07.088144: I tensorflow/stream_executor/cuda/cuda_gpu_executor.cc:975] successful NUMA node read from SysFS had negative value (-1), but there must be at least one NUMA node, so returning NUMA node zero\n",
      "2022-06-11 10:13:07.088293: I tensorflow/stream_executor/cuda/cuda_gpu_executor.cc:975] successful NUMA node read from SysFS had negative value (-1), but there must be at least one NUMA node, so returning NUMA node zero\n",
      "2022-06-11 10:13:07.088436: I tensorflow/core/common_runtime/gpu/gpu_device.cc:1532] Created device /job:localhost/replica:0/task:0/device:GPU:0 with 3388 MB memory:  -> device: 0, name: NVIDIA GeForce GTX 950M, pci bus id: 0000:01:00.0, compute capability: 5.0\n",
      "2022-06-11 10:13:10.741201: I tensorflow/stream_executor/cuda/cuda_dnn.cc:384] Loaded cuDNN version 8303\n"
     ]
    },
    {
     "name": "stdout",
     "output_type": "stream",
     "text": [
      "313/313 [==============================] - 6s 5ms/step - loss: 0.0043\n"
     ]
    },
    {
     "data": {
      "text/plain": [
       "0.004286200739443302"
      ]
     },
     "execution_count": 4,
     "metadata": {},
     "output_type": "execute_result"
    }
   ],
   "source": [
    "# load RefAE model\n",
    "refae_dense_path = SAVED_REFAE_PATH.joinpath('dense')\n",
    "refae_conv_path = SAVED_REFAE_PATH.joinpath('conv')\n",
    "refae_dense = keras.models.load_model(refae_dense_path)\n",
    "refae_conv = keras.models.load_model(refae_conv_path)\n",
    "\n",
    "refae_dense.evaluate(test_images, test_images)"
   ]
  },
  {
   "cell_type": "code",
   "execution_count": 5,
   "id": "e8386880-1758-4f7d-ac68-66d185651d7f",
   "metadata": {
    "pycharm": {
     "name": "#%%\n"
    }
   },
   "outputs": [
    {
     "name": "stdout",
     "output_type": "stream",
     "text": [
      "WARNING:tensorflow:No training configuration found in save file, so the model was *not* compiled. Compile it manually.\n",
      "Evaluating /home/tom/Uni_Dev/cladec-mnist/saved-models/mnist/perfectAE/cladec/ 0/dense on test with alpha=0\n",
      "313/313 [==============================] - 1s 2ms/step - loss: 0.0235\n",
      "WARNING:tensorflow:No training configuration found in save file, so the model was *not* compiled. Compile it manually.\n",
      "Evaluating /home/tom/Uni_Dev/cladec-mnist/saved-models/mnist/perfectAE/cladec/ 1/dense on test with alpha=1\n",
      "313/313 [==============================] - 1s 2ms/step - loss: 0.0368\n",
      "WARNING:tensorflow:No training configuration found in save file, so the model was *not* compiled. Compile it manually.\n",
      "Evaluating /home/tom/Uni_Dev/cladec-mnist/saved-models/mnist/perfectAE/cladec/50/dense on test with alpha=50\n",
      "313/313 [==============================] - 1s 2ms/step - loss: 0.0725\n",
      "WARNING:tensorflow:No training configuration found in save file, so the model was *not* compiled. Compile it manually.\n",
      "Evaluating /home/tom/Uni_Dev/cladec-mnist/saved-models/mnist/perfectAE/cladec/99/dense on test with alpha=99\n",
      "313/313 [==============================] - 1s 2ms/step - loss: 0.1631\n"
     ]
    }
   ],
   "source": [
    "alphas = [0, 1, 50, 99]\n",
    "\n",
    "for alpha in alphas:\n",
    "    cladec_path = SAVED_CLADEC_PATH.joinpath(f'{alpha:2}')\n",
    "    cladec_dense_path = cladec_path.joinpath(\"dense\")\n",
    "    cladec_dense = keras.models.load_model(cladec_dense_path)\n",
    "    cladec_dense.compile(optimizer='Adam', loss='mean_squared_error')\n",
    "    print(f'Evaluating {cladec_dense_path} on test with alpha={alpha}')\n",
    "    cladec_dense.evaluate(dense_test_acts, test_images)\n",
    "    "
   ]
  }
 ],
 "metadata": {
  "kernelspec": {
   "display_name": "cladec-mnist",
   "language": "python",
   "name": "cladec-mnist"
  },
  "language_info": {
   "codemirror_mode": {
    "name": "ipython",
    "version": 3
   },
   "file_extension": ".py",
   "mimetype": "text/x-python",
   "name": "python",
   "nbconvert_exporter": "python",
   "pygments_lexer": "ipython3",
   "version": "3.10.4"
  }
 },
 "nbformat": 4,
 "nbformat_minor": 5
}