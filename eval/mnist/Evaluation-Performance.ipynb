{
 "cells": [
  {
   "cell_type": "code",
   "execution_count": 1,
   "id": "26271def-641f-48f5-87b2-88c53cf1e4a4",
   "metadata": {
    "pycharm": {
     "name": "#%%\n"
    }
   },
   "outputs": [],
   "source": [
    "import os, pathlib\n",
    "\n",
    "file_path = os.path.dirname(os.path.realpath(\"__file__\"))\n",
    "home_dir = pathlib.Path(file_path).parent.parent\n",
    "os.chdir(home_dir)"
   ]
  },
  {
   "cell_type": "code",
   "execution_count": 2,
   "id": "2f995e98-7021-4614-99c1-217d0752a3ae",
   "metadata": {
    "pycharm": {
     "name": "#%%\n"
    }
   },
   "outputs": [],
   "source": [
    "import tensorflow as tf\n",
    "from tensorflow import keras\n",
    "import numpy as np\n",
    "from src.utils import SAVED_PICS_PATH, keras_dataset_image_preprocessing, DENSE_LAYER_NAME, CONV_LAYER_NAME, ALPHAS\n",
    "from src.utils import SAVED_CLASSIFIER_PATH_MNIST, SAVED_CLADEC_PATH_MNIST, SAVED_REFAE_PATH_MNIST\n",
    "from src.cladec import ClaDec, RefAE\n",
    "\n",
    "(train_images, train_labels_c), (test_images, test_labels_c) = keras_dataset_image_preprocessing(keras.datasets.mnist)\n",
    "SAVED_EVAL_PICS_PATH = SAVED_PICS_PATH.joinpath('fashion_mnist')\n",
    "\n",
    "tf.random.set_seed(1234)\n",
    "np.random.seed(1234)"
   ]
  },
  {
   "cell_type": "code",
   "execution_count": 3,
   "outputs": [
    {
     "name": "stderr",
     "output_type": "stream",
     "text": [
      "2022-07-10 12:01:50.802111: I tensorflow/stream_executor/cuda/cuda_gpu_executor.cc:975] successful NUMA node read from SysFS had negative value (-1), but there must be at least one NUMA node, so returning NUMA node zero\n",
      "2022-07-10 12:01:50.838624: I tensorflow/stream_executor/cuda/cuda_gpu_executor.cc:975] successful NUMA node read from SysFS had negative value (-1), but there must be at least one NUMA node, so returning NUMA node zero\n",
      "2022-07-10 12:01:50.838984: I tensorflow/stream_executor/cuda/cuda_gpu_executor.cc:975] successful NUMA node read from SysFS had negative value (-1), but there must be at least one NUMA node, so returning NUMA node zero\n",
      "2022-07-10 12:01:50.839723: I tensorflow/core/platform/cpu_feature_guard.cc:193] This TensorFlow binary is optimized with oneAPI Deep Neural Network Library (oneDNN) to use the following CPU instructions in performance-critical operations:  AVX2 FMA\n",
      "To enable them in other operations, rebuild TensorFlow with the appropriate compiler flags.\n",
      "2022-07-10 12:01:50.859014: I tensorflow/stream_executor/cuda/cuda_gpu_executor.cc:975] successful NUMA node read from SysFS had negative value (-1), but there must be at least one NUMA node, so returning NUMA node zero\n",
      "2022-07-10 12:01:50.859457: I tensorflow/stream_executor/cuda/cuda_gpu_executor.cc:975] successful NUMA node read from SysFS had negative value (-1), but there must be at least one NUMA node, so returning NUMA node zero\n",
      "2022-07-10 12:01:50.859737: I tensorflow/stream_executor/cuda/cuda_gpu_executor.cc:975] successful NUMA node read from SysFS had negative value (-1), but there must be at least one NUMA node, so returning NUMA node zero\n",
      "2022-07-10 12:01:51.356908: I tensorflow/stream_executor/cuda/cuda_gpu_executor.cc:975] successful NUMA node read from SysFS had negative value (-1), but there must be at least one NUMA node, so returning NUMA node zero\n",
      "2022-07-10 12:01:51.357158: I tensorflow/stream_executor/cuda/cuda_gpu_executor.cc:975] successful NUMA node read from SysFS had negative value (-1), but there must be at least one NUMA node, so returning NUMA node zero\n",
      "2022-07-10 12:01:51.357306: I tensorflow/stream_executor/cuda/cuda_gpu_executor.cc:975] successful NUMA node read from SysFS had negative value (-1), but there must be at least one NUMA node, so returning NUMA node zero\n",
      "2022-07-10 12:01:51.357432: I tensorflow/core/common_runtime/gpu/gpu_device.cc:1532] Created device /job:localhost/replica:0/task:0/device:GPU:0 with 3387 MB memory:  -> device: 0, name: NVIDIA GeForce GTX 950M, pci bus id: 0000:01:00.0, compute capability: 5.0\n",
      "2022-07-10 12:01:52.720616: I tensorflow/stream_executor/cuda/cuda_dnn.cc:384] Loaded cuDNN version 8400\n"
     ]
    },
    {
     "name": "stdout",
     "output_type": "stream",
     "text": [
      "313/313 [==============================] - 2s 4ms/step - loss: 0.0414 - categorical_accuracy: 0.9905\n"
     ]
    },
    {
     "data": {
      "text/plain": "[0.04137476161122322, 0.9904999732971191]"
     },
     "execution_count": 3,
     "metadata": {},
     "output_type": "execute_result"
    }
   ],
   "source": [
    "classifier = keras.models.load_model(SAVED_CLASSIFIER_PATH_MNIST)\n",
    "classifier.evaluate(test_images, test_labels_c)"
   ],
   "metadata": {
    "collapsed": false,
    "pycharm": {
     "name": "#%%\n"
    }
   }
  },
  {
   "cell_type": "code",
   "execution_count": 4,
   "id": "e8386880-1758-4f7d-ac68-66d185651d7f",
   "metadata": {
    "pycharm": {
     "name": "#%%\n"
    }
   },
   "outputs": [
    {
     "name": "stdout",
     "output_type": "stream",
     "text": [
      "Evaluating  /home/tom/Uni_Dev/cladec-mnist/saved-models/mnist/cladec/ 0/my_dense\n",
      "313/313 [==============================] - 2s 6ms/step - loss: 0.0266 - reconstruction_loss: 0.0264 - classification_loss: 0.1374\n",
      "Evaluating  /home/tom/Uni_Dev/cladec-mnist/saved-models/mnist/cladec/ 1/my_dense\n",
      "313/313 [==============================] - 2s 6ms/step - loss: 0.0273 - reconstruction_loss: 0.0265 - classification_loss: 0.0729\n",
      "Evaluating  /home/tom/Uni_Dev/cladec-mnist/saved-models/mnist/cladec/ 5/my_dense\n",
      "313/313 [==============================] - 2s 6ms/step - loss: 0.0309 - reconstruction_loss: 0.0287 - classification_loss: 0.0739\n",
      "Evaluating  /home/tom/Uni_Dev/cladec-mnist/saved-models/mnist/cladec/10/my_dense\n",
      "313/313 [==============================] - 2s 6ms/step - loss: 0.0341 - reconstruction_loss: 0.0307 - classification_loss: 0.0649\n",
      "Evaluating  /home/tom/Uni_Dev/cladec-mnist/saved-models/mnist/cladec/25/my_dense\n",
      "313/313 [==============================] - 2s 6ms/step - loss: 0.0522 - reconstruction_loss: 0.0454 - classification_loss: 0.0736\n",
      "Evaluating  /home/tom/Uni_Dev/cladec-mnist/saved-models/mnist/cladec/50/my_dense\n",
      "313/313 [==============================] - 2s 6ms/step - loss: 0.0803 - reconstruction_loss: 0.0750 - classification_loss: 0.0874\n",
      "Evaluating  /home/tom/Uni_Dev/cladec-mnist/saved-models/mnist/cladec/99/my_dense\n",
      "313/313 [==============================] - 2s 6ms/step - loss: 0.1159 - reconstruction_loss: 0.3042 - classification_loss: 0.1140\n"
     ]
    }
   ],
   "source": [
    "decoder_dense = ClaDec.create_128_dense_decoder()\n",
    "for alpha in ALPHAS:\n",
    "    cladec_path = SAVED_CLADEC_PATH_MNIST.joinpath(f'{alpha:2}')\n",
    "    cladec_dense = ClaDec.create_from_weights(cladec_path.joinpath(DENSE_LAYER_NAME).joinpath(DENSE_LAYER_NAME),\n",
    "                                              classifier, DENSE_LAYER_NAME, alpha / 100, decoder_dense)\n",
    "    print(\"Evaluating \", cladec_path.joinpath(DENSE_LAYER_NAME))\n",
    "    cladec_dense.evaluate(test_images, test_labels_c)"
   ]
  },
  {
   "cell_type": "code",
   "execution_count": 5,
   "outputs": [
    {
     "name": "stdout",
     "output_type": "stream",
     "text": [
      "Evaluating  /home/tom/Uni_Dev/cladec-mnist/saved-models/mnist/cladec/ 0/my_conv\n",
      "313/313 [==============================] - 2s 6ms/step - loss: 0.0018 - reconstruction_loss: 0.0018 - classification_loss: 0.0542\n",
      "Evaluating  /home/tom/Uni_Dev/cladec-mnist/saved-models/mnist/cladec/ 1/my_conv\n",
      "313/313 [==============================] - 2s 6ms/step - loss: 0.0024 - reconstruction_loss: 0.0019 - classification_loss: 0.0475\n",
      "Evaluating  /home/tom/Uni_Dev/cladec-mnist/saved-models/mnist/cladec/ 5/my_conv\n",
      "313/313 [==============================] - 3s 7ms/step - loss: 0.0043 - reconstruction_loss: 0.0022 - classification_loss: 0.0434\n",
      "Evaluating  /home/tom/Uni_Dev/cladec-mnist/saved-models/mnist/cladec/10/my_conv\n",
      "313/313 [==============================] - 2s 6ms/step - loss: 0.0066 - reconstruction_loss: 0.0026 - classification_loss: 0.0426\n",
      "Evaluating  /home/tom/Uni_Dev/cladec-mnist/saved-models/mnist/cladec/25/my_conv\n",
      "313/313 [==============================] - 2s 6ms/step - loss: 0.0174 - reconstruction_loss: 0.0070 - classification_loss: 0.0486\n",
      "Evaluating  /home/tom/Uni_Dev/cladec-mnist/saved-models/mnist/cladec/50/my_conv\n",
      "313/313 [==============================] - 2s 6ms/step - loss: 0.0643 - reconstruction_loss: 0.0410 - classification_loss: 0.0854\n",
      "Evaluating  /home/tom/Uni_Dev/cladec-mnist/saved-models/mnist/cladec/99/my_conv\n",
      "313/313 [==============================] - 2s 6ms/step - loss: 0.0936 - reconstruction_loss: 0.0773 - classification_loss: 0.0937\n"
     ]
    }
   ],
   "source": [
    "decoder_conv = ClaDec.create_64_conv_decoder()\n",
    "for alpha in ALPHAS:\n",
    "    cladec_path = SAVED_CLADEC_PATH_MNIST.joinpath(f'{alpha:2}')\n",
    "    cladec_conv = ClaDec.create_from_weights(cladec_path.joinpath(CONV_LAYER_NAME).joinpath(CONV_LAYER_NAME),\n",
    "                                             classifier, CONV_LAYER_NAME, alpha / 100, decoder_conv)\n",
    "    print(\"Evaluating \", cladec_path.joinpath(CONV_LAYER_NAME))\n",
    "    cladec_conv.evaluate(test_images, test_labels_c)"
   ],
   "metadata": {
    "collapsed": false,
    "pycharm": {
     "name": "#%%\n"
    }
   }
  },
  {
   "cell_type": "code",
   "execution_count": 6,
   "outputs": [
    {
     "name": "stdout",
     "output_type": "stream",
     "text": [
      "Evaluating  /home/tom/Uni_Dev/cladec-mnist/saved-models/mnist/refae/my_dense\n",
      "313/313 [==============================] - 2s 4ms/step - reconstruction_loss: 0.0031\n",
      "Evaluating  /home/tom/Uni_Dev/cladec-mnist/saved-models/mnist/refae/my_conv\n",
      "313/313 [==============================] - 1s 4ms/step - reconstruction_loss: 5.2530e-04\n"
     ]
    },
    {
     "data": {
      "text/plain": "0.000525295443367213"
     },
     "execution_count": 6,
     "metadata": {},
     "output_type": "execute_result"
    }
   ],
   "source": [
    "# load RefAE model\n",
    "refae_dense = RefAE.create_from_weights(SAVED_REFAE_PATH_MNIST.joinpath(DENSE_LAYER_NAME).joinpath(DENSE_LAYER_NAME),\n",
    "                                        cladec_dense)\n",
    "refae_conv = RefAE.create_from_weights(SAVED_REFAE_PATH_MNIST.joinpath(CONV_LAYER_NAME).joinpath(CONV_LAYER_NAME),\n",
    "                                       cladec_conv)\n",
    "# get reference reconstructions\n",
    "print(\"Evaluating \", SAVED_REFAE_PATH_MNIST.joinpath(DENSE_LAYER_NAME))\n",
    "refae_dense.evaluate(test_images)\n",
    "print(\"Evaluating \", SAVED_REFAE_PATH_MNIST.joinpath(CONV_LAYER_NAME))\n",
    "refae_conv.evaluate(test_images)"
   ],
   "metadata": {
    "collapsed": false,
    "pycharm": {
     "name": "#%%\n"
    }
   }
  },
  {
   "cell_type": "markdown",
   "source": [
    "# Train classifier on reconstructions"
   ],
   "metadata": {
    "collapsed": false,
    "pycharm": {
     "name": "#%% md\n"
    }
   }
  },
  {
   "cell_type": "code",
   "execution_count": 17,
   "outputs": [
    {
     "name": "stdout",
     "output_type": "stream",
     "text": [
      "1875/1875 [==============================] - 6s 3ms/step\n",
      "1875/1875 [==============================] - 6s 3ms/step\n",
      "313/313 [==============================] - 1s 3ms/step\n",
      "313/313 [==============================] - 1s 3ms/step\n"
     ]
    }
   ],
   "source": [
    "from src.create_models import train_classifier\n",
    "\n",
    "train_reconstructions_refae_dense = refae_dense.predict(train_images)\n",
    "train_reconstructions_cladec_dense = cladec_dense.predict(train_images)\n",
    "\n",
    "test_reconstructions_refae_dense = refae_dense.predict(test_images)\n",
    "test_reconstructions_cladec_dense = cladec_dense.predict(test_images)"
   ],
   "metadata": {
    "collapsed": false,
    "pycharm": {
     "name": "#%%\n"
    }
   }
  },
  {
   "cell_type": "code",
   "execution_count": 11,
   "outputs": [
    {
     "name": "stdout",
     "output_type": "stream",
     "text": [
      "1875/1875 [==============================] - 12s 6ms/step - loss: 0.1715 - categorical_accuracy: 0.9485\n"
     ]
    }
   ],
   "source": [
    "classifier_refae_dense = train_classifier(train_reconstructions_refae_dense, train_labels_c, 1)"
   ],
   "metadata": {
    "collapsed": false,
    "pycharm": {
     "name": "#%%\n"
    }
   }
  },
  {
   "cell_type": "code",
   "execution_count": 13,
   "outputs": [
    {
     "name": "stdout",
     "output_type": "stream",
     "text": [
      "313/313 [==============================] - 1s 3ms/step - loss: 0.0571 - categorical_accuracy: 0.9817\n"
     ]
    },
    {
     "data": {
      "text/plain": "[0.05708133429288864, 0.9817000031471252]"
     },
     "execution_count": 13,
     "metadata": {},
     "output_type": "execute_result"
    }
   ],
   "source": [
    "classifier_refae_dense.evaluate(test_images, test_labels_c)"
   ],
   "metadata": {
    "collapsed": false,
    "pycharm": {
     "name": "#%%\n"
    }
   }
  },
  {
   "cell_type": "code",
   "execution_count": 18,
   "outputs": [
    {
     "name": "stdout",
     "output_type": "stream",
     "text": [
      "313/313 [==============================] - 1s 4ms/step - loss: 0.0676 - categorical_accuracy: 0.9789\n"
     ]
    },
    {
     "data": {
      "text/plain": "[0.06760738044977188, 0.9789000153541565]"
     },
     "execution_count": 18,
     "metadata": {},
     "output_type": "execute_result"
    }
   ],
   "source": [
    "classifier_refae_dense.evaluate(test_reconstructions_refae_dense, test_labels_c)"
   ],
   "metadata": {
    "collapsed": false,
    "pycharm": {
     "name": "#%%\n"
    }
   }
  },
  {
   "cell_type": "code",
   "execution_count": 14,
   "outputs": [
    {
     "name": "stdout",
     "output_type": "stream",
     "text": [
      "1875/1875 [==============================] - 12s 6ms/step - loss: 0.0693 - categorical_accuracy: 0.9828\n"
     ]
    }
   ],
   "source": [
    "classifier_cladec_99_dense = train_classifier(train_reconstructions_cladec_dense, train_labels_c, 1)"
   ],
   "metadata": {
    "collapsed": false,
    "pycharm": {
     "name": "#%%\n"
    }
   }
  },
  {
   "cell_type": "code",
   "execution_count": 15,
   "outputs": [
    {
     "name": "stdout",
     "output_type": "stream",
     "text": [
      "313/313 [==============================] - 1s 4ms/step - loss: 9.6945 - categorical_accuracy: 0.1816\n"
     ]
    },
    {
     "data": {
      "text/plain": "[9.694467544555664, 0.18160000443458557]"
     },
     "execution_count": 15,
     "metadata": {},
     "output_type": "execute_result"
    }
   ],
   "source": [
    "classifier_cladec_99_dense.evaluate(test_images, test_labels_c)"
   ],
   "metadata": {
    "collapsed": false,
    "pycharm": {
     "name": "#%%\n"
    }
   }
  },
  {
   "cell_type": "code",
   "execution_count": 19,
   "outputs": [
    {
     "name": "stdout",
     "output_type": "stream",
     "text": [
      "313/313 [==============================] - 1s 4ms/step - loss: 0.0640 - categorical_accuracy: 0.9852\n"
     ]
    },
    {
     "data": {
      "text/plain": "[0.063988097012043, 0.9851999878883362]"
     },
     "execution_count": 19,
     "metadata": {},
     "output_type": "execute_result"
    }
   ],
   "source": [
    "classifier_cladec_99_dense.evaluate(test_reconstructions_cladec_dense, test_labels_c)"
   ],
   "metadata": {
    "collapsed": false,
    "pycharm": {
     "name": "#%%\n"
    }
   }
  }
 ],
 "metadata": {
  "kernelspec": {
   "display_name": "cladec-mnist",
   "language": "python",
   "name": "cladec-mnist"
  },
  "language_info": {
   "codemirror_mode": {
    "name": "ipython",
    "version": 3
   },
   "file_extension": ".py",
   "mimetype": "text/x-python",
   "name": "python",
   "nbconvert_exporter": "python",
   "pygments_lexer": "ipython3",
   "version": "3.10.4"
  }
 },
 "nbformat": 4,
 "nbformat_minor": 5
}